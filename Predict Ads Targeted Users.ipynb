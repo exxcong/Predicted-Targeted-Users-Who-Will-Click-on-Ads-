{
 "cells": [
  {
   "cell_type": "code",
   "execution_count": 1,
   "metadata": {
    "ExecuteTime": {
     "end_time": "2021-02-05T08:29:30.537000Z",
     "start_time": "2021-02-05T08:29:30.525000Z"
    }
   },
   "outputs": [],
   "source": [
    "import datetime\n",
    "from sklearn.preprocessing import OneHotEncoder\n",
    "from sklearn.model_selection import StratifiedKFold\n",
    "from sklearn.feature_extraction.text import CountVectorizer\n",
    "from scipy import sparse\n",
    "import lightgbm as lgb\n",
    "import time\n",
    "import pandas as pd\n",
    "import numpy as np\n",
    "import sys"
   ]
  },
  {
   "cell_type": "markdown",
   "metadata": {},
   "source": [
    "#### 1、Import Date"
   ]
  },
  {
   "cell_type": "code",
   "execution_count": null,
   "metadata": {
    "ExecuteTime": {
     "end_time": "2021-02-05T07:33:52.475000Z",
     "start_time": "2021-02-05T07:33:46.205000Z"
    }
   },
   "outputs": [],
   "source": [
    "train = pd.read_csv('round1_iflyad_train.txt',sep='\\t')\n",
    "test = pd.read_csv('round1_iflyad_test_feature.txt',sep='\\t')"
   ]
  },
  {
   "cell_type": "markdown",
   "metadata": {
    "ExecuteTime": {
     "end_time": "2021-02-04T06:49:56.433000Z",
     "start_time": "2021-02-04T06:49:56.429000Z"
    }
   },
   "source": [
    "#### 2、Data Exploration"
   ]
  },
  {
   "cell_type": "code",
   "execution_count": 156,
   "metadata": {
    "ExecuteTime": {
     "end_time": "2021-02-05T02:30:29.763000Z",
     "start_time": "2021-02-05T02:30:29.058000Z"
    }
   },
   "outputs": [
    {
     "name": "stdout",
     "output_type": "stream",
     "text": [
      "<class 'pandas.core.frame.DataFrame'>\n",
      "RangeIndex: 1001650 entries, 0 to 1001649\n",
      "Data columns (total 35 columns):\n",
      " #   Column                 Non-Null Count    Dtype  \n",
      "---  ------                 --------------    -----  \n",
      " 0   instance_id            1001650 non-null  int64  \n",
      " 1   time                   1001650 non-null  int64  \n",
      " 2   city                   1001650 non-null  int64  \n",
      " 3   province               1001650 non-null  int64  \n",
      " 4   user_tags              691880 non-null   object \n",
      " 5   carrier                1001650 non-null  int64  \n",
      " 6   devtype                1001650 non-null  int64  \n",
      " 7   make                   902733 non-null   object \n",
      " 8   model                  994248 non-null   object \n",
      " 9   nnt                    1001650 non-null  int64  \n",
      " 10  os                     1001650 non-null  int64  \n",
      " 11  osv                    993878 non-null   object \n",
      " 12  os_name                1001650 non-null  object \n",
      " 13  adid                   1001650 non-null  int64  \n",
      " 14  advert_id              1001650 non-null  int64  \n",
      " 15  orderid                1001650 non-null  int64  \n",
      " 16  advert_industry_inner  1001650 non-null  object \n",
      " 17  campaign_id            1001650 non-null  int64  \n",
      " 18  creative_id            1001650 non-null  int64  \n",
      " 19  creative_tp_dnf        1001650 non-null  int64  \n",
      " 20  app_cate_id            999383 non-null   float64\n",
      " 21  f_channel              76390 non-null    object \n",
      " 22  app_id                 999383 non-null   float64\n",
      " 23  inner_slot_id          1001650 non-null  object \n",
      " 24  creative_type          1001650 non-null  int64  \n",
      " 25  creative_width         1001650 non-null  int64  \n",
      " 26  creative_height        1001650 non-null  int64  \n",
      " 27  creative_is_jump       1001650 non-null  bool   \n",
      " 28  creative_is_download   1001650 non-null  bool   \n",
      " 29  creative_is_js         1001650 non-null  bool   \n",
      " 30  creative_is_voicead    1001650 non-null  bool   \n",
      " 31  creative_has_deeplink  1001650 non-null  bool   \n",
      " 32  app_paid               1001650 non-null  bool   \n",
      " 33  advert_name            1001650 non-null  object \n",
      " 34  click                  1001650 non-null  int64  \n",
      "dtypes: bool(6), float64(2), int64(18), object(9)\n",
      "memory usage: 227.3+ MB\n"
     ]
    },
    {
     "data": {
      "text/plain": [
       "instance_id                   0\n",
       "time                          0\n",
       "city                          0\n",
       "province                      0\n",
       "user_tags                309770\n",
       "carrier                       0\n",
       "devtype                       0\n",
       "make                      98917\n",
       "model                      7402\n",
       "nnt                           0\n",
       "os                            0\n",
       "osv                        7772\n",
       "os_name                       0\n",
       "adid                          0\n",
       "advert_id                     0\n",
       "orderid                       0\n",
       "advert_industry_inner         0\n",
       "campaign_id                   0\n",
       "creative_id                   0\n",
       "creative_tp_dnf               0\n",
       "app_cate_id                2267\n",
       "f_channel                925260\n",
       "app_id                     2267\n",
       "inner_slot_id                 0\n",
       "creative_type                 0\n",
       "creative_width                0\n",
       "creative_height               0\n",
       "creative_is_jump              0\n",
       "creative_is_download          0\n",
       "creative_is_js                0\n",
       "creative_is_voicead           0\n",
       "creative_has_deeplink         0\n",
       "app_paid                      0\n",
       "advert_name                   0\n",
       "click                         0\n",
       "dtype: int64"
      ]
     },
     "execution_count": 156,
     "metadata": {},
     "output_type": "execute_result"
    }
   ],
   "source": [
    "train.head(5)\n",
    "train.info()\n",
    "train.isnull().sum()"
   ]
  },
  {
   "cell_type": "markdown",
   "metadata": {},
   "source": [
    "* Check data imbalance or not"
   ]
  },
  {
   "cell_type": "code",
   "execution_count": 3,
   "metadata": {
    "ExecuteTime": {
     "end_time": "2021-02-05T07:15:46.658000Z",
     "start_time": "2021-02-05T07:15:46.626000Z"
    }
   },
   "outputs": [
    {
     "data": {
      "text/plain": [
       "0    802863\n",
       "1    198787\n",
       "Name: click, dtype: int64"
      ]
     },
     "execution_count": 3,
     "metadata": {},
     "output_type": "execute_result"
    }
   ],
   "source": [
    "train['click'].value_counts()"
   ]
  },
  {
   "cell_type": "code",
   "execution_count": 4,
   "metadata": {
    "ExecuteTime": {
     "end_time": "2021-02-05T07:15:48.385000Z",
     "start_time": "2021-02-05T07:15:48.224000Z"
    }
   },
   "outputs": [],
   "source": [
    "x = train.drop('click',axis=1)\n",
    "y = train['click']"
   ]
  },
  {
   "cell_type": "markdown",
   "metadata": {},
   "source": [
    "* Combine train and test data to do some data preprocessing"
   ]
  },
  {
   "cell_type": "code",
   "execution_count": 3,
   "metadata": {
    "ExecuteTime": {
     "end_time": "2021-02-05T07:33:58.985000Z",
     "start_time": "2021-02-05T07:33:58.480000Z"
    }
   },
   "outputs": [],
   "source": [
    "click = train['click']\n",
    "train = train.drop('click',axis=1)\n",
    "df = pd.concat([train,test],axis=0,ignore_index=True)"
   ]
  },
  {
   "cell_type": "markdown",
   "metadata": {},
   "source": [
    "#### 3、Data Preprocessing"
   ]
  },
  {
   "cell_type": "markdown",
   "metadata": {
    "ExecuteTime": {
     "end_time": "2021-02-04T07:25:30.362000Z",
     "start_time": "2021-02-04T07:25:30.359000Z"
    }
   },
   "source": [
    "* Process Null data"
   ]
  },
  {
   "cell_type": "code",
   "execution_count": 4,
   "metadata": {
    "ExecuteTime": {
     "end_time": "2021-02-05T07:34:04.009000Z",
     "start_time": "2021-02-05T07:34:03.305000Z"
    }
   },
   "outputs": [],
   "source": [
    "# 比赛常用的缺失值处理技巧\n",
    "df = df.fillna(-1)"
   ]
  },
  {
   "cell_type": "markdown",
   "metadata": {},
   "source": [
    "* get day and hour from time "
   ]
  },
  {
   "cell_type": "code",
   "execution_count": 5,
   "metadata": {
    "ExecuteTime": {
     "end_time": "2021-02-05T07:34:10.628000Z",
     "start_time": "2021-02-05T07:34:04.866000Z"
    }
   },
   "outputs": [],
   "source": [
    "df['day'] = df['time'].apply(lambda x: int(time.strftime(\"%d\", time.localtime(x))))\n",
    "df['hour'] = df['time'].apply(lambda x: int(time.strftime(\"%H\", time.localtime(x))))"
   ]
  },
  {
   "cell_type": "markdown",
   "metadata": {},
   "source": [
    "* transfer Boolean data"
   ]
  },
  {
   "cell_type": "code",
   "execution_count": 6,
   "metadata": {
    "ExecuteTime": {
     "end_time": "2021-02-05T07:34:10.670000Z",
     "start_time": "2021-02-05T07:34:10.629000Z"
    }
   },
   "outputs": [],
   "source": [
    "list(filter(lambda s:s=='bool',[df[i].dtype for i in df.columns]))\n",
    "bool_feature = list(filter(lambda s:s!=0,[i if df[i].dtype=='bool' else 0  for i in df.columns]))\n",
    "\n",
    "# 转换bool\n",
    "for i in bool_feature:\n",
    "    df[i] = df[i].astype(int)   #啥都不写，只写int的话，则默认为int32."
   ]
  },
  {
   "cell_type": "markdown",
   "metadata": {},
   "source": [
    "* (advert_industry_inner) extract new feature"
   ]
  },
  {
   "cell_type": "code",
   "execution_count": 7,
   "metadata": {
    "ExecuteTime": {
     "end_time": "2021-02-05T07:34:35.004000Z",
     "start_time": "2021-02-05T07:34:34.660000Z"
    }
   },
   "outputs": [],
   "source": [
    "df['advert_industry_inner_1'] = df['advert_industry_inner'].apply(lambda x: x.split('_')[0])"
   ]
  },
  {
   "cell_type": "markdown",
   "metadata": {},
   "source": [
    "* put all ads-related features into one list"
   ]
  },
  {
   "cell_type": "code",
   "execution_count": 8,
   "metadata": {
    "ExecuteTime": {
     "end_time": "2021-02-05T07:34:36.784000Z",
     "start_time": "2021-02-05T07:34:36.779000Z"
    }
   },
   "outputs": [],
   "source": [
    "ad_cate_feature = ['adid', 'advert_id', 'orderid', 'advert_industry_inner_1', 'advert_industry_inner', 'advert_name',\n",
    "                   'campaign_id', 'creative_id', 'creative_type', 'creative_tp_dnf', 'creative_has_deeplink',\n",
    "                   'creative_is_jump', 'creative_is_download']"
   ]
  },
  {
   "cell_type": "code",
   "execution_count": 10,
   "metadata": {
    "ExecuteTime": {
     "end_time": "2021-02-05T07:34:38.671000Z",
     "start_time": "2021-02-05T07:34:38.667000Z"
    }
   },
   "outputs": [],
   "source": [
    "# creative_height  ，creative_width are numeric features"
   ]
  },
  {
   "cell_type": "markdown",
   "metadata": {},
   "source": [
    "* put media-related features into one list"
   ]
  },
  {
   "cell_type": "code",
   "execution_count": 11,
   "metadata": {
    "ExecuteTime": {
     "end_time": "2021-02-05T07:34:39.279000Z",
     "start_time": "2021-02-05T07:34:39.276000Z"
    }
   },
   "outputs": [],
   "source": [
    "media_cate_feature = ['app_cate_id', 'f_channel', 'app_id', 'inner_slot_id']"
   ]
  },
  {
   "cell_type": "code",
   "execution_count": 12,
   "metadata": {
    "ExecuteTime": {
     "end_time": "2021-02-05T07:34:40.621000Z",
     "start_time": "2021-02-05T07:34:40.588000Z"
    }
   },
   "outputs": [
    {
     "data": {
      "text/plain": [
       "0    1041674\n",
       "Name: app_paid, dtype: int64"
      ]
     },
     "execution_count": 12,
     "metadata": {},
     "output_type": "execute_result"
    }
   ],
   "source": [
    "# For this feature, there is only one unique value. The variance for this feature is 0 -- Invalid feature\n",
    "df['creative_is_js'].value_counts()\n",
    "df['app_paid'].value_counts()"
   ]
  },
  {
   "cell_type": "markdown",
   "metadata": {},
   "source": [
    "* Content features"
   ]
  },
  {
   "cell_type": "code",
   "execution_count": 13,
   "metadata": {
    "ExecuteTime": {
     "end_time": "2021-02-05T07:34:41.600000Z",
     "start_time": "2021-02-05T07:34:41.594000Z"
    }
   },
   "outputs": [],
   "source": [
    "content_cate_feature = ['city', 'carrier', 'province', 'nnt', 'devtype', 'osv', 'os', 'make', 'model']"
   ]
  },
  {
   "cell_type": "code",
   "execution_count": 14,
   "metadata": {
    "ExecuteTime": {
     "end_time": "2021-02-05T07:34:42.935000Z",
     "start_time": "2021-02-05T07:34:42.821000Z"
    }
   },
   "outputs": [
    {
     "data": {
      "text/plain": [
       "android    948043\n",
       "ios         93612\n",
       "unknown        19\n",
       "Name: os_name, dtype: int64"
      ]
     },
     "execution_count": 14,
     "metadata": {},
     "output_type": "execute_result"
    }
   ],
   "source": [
    "# same feature with OS\n",
    "df['os_name'].value_counts()"
   ]
  },
  {
   "cell_type": "code",
   "execution_count": 15,
   "metadata": {
    "ExecuteTime": {
     "end_time": "2021-02-05T07:34:43.320000Z",
     "start_time": "2021-02-05T07:34:43.308000Z"
    }
   },
   "outputs": [
    {
     "data": {
      "text/plain": [
       "2    948043\n",
       "1     93612\n",
       "0        19\n",
       "Name: os, dtype: int64"
      ]
     },
     "execution_count": 15,
     "metadata": {},
     "output_type": "execute_result"
    }
   ],
   "source": [
    "df['os'].value_counts()"
   ]
  },
  {
   "cell_type": "markdown",
   "metadata": {},
   "source": [
    "* combine lists"
   ]
  },
  {
   "cell_type": "code",
   "execution_count": 16,
   "metadata": {
    "ExecuteTime": {
     "end_time": "2021-02-05T07:34:45.236000Z",
     "start_time": "2021-02-05T07:34:45.230000Z"
    }
   },
   "outputs": [],
   "source": [
    "origin_cate_list = ad_cate_feature + media_cate_feature + content_cate_feature"
   ]
  },
  {
   "cell_type": "markdown",
   "metadata": {},
   "source": [
    "* labelencode categorical features"
   ]
  },
  {
   "cell_type": "code",
   "execution_count": 17,
   "metadata": {
    "ExecuteTime": {
     "end_time": "2021-02-05T07:34:48.916000Z",
     "start_time": "2021-02-05T07:34:46.299000Z"
    }
   },
   "outputs": [],
   "source": [
    "for i in origin_cate_list:\n",
    "    df[i] = df[i].map(dict(zip(df[i].unique(), range(0, df[i].nunique()))))"
   ]
  },
  {
   "cell_type": "code",
   "execution_count": 18,
   "metadata": {
    "ExecuteTime": {
     "end_time": "2021-02-05T07:34:50.252000Z",
     "start_time": "2021-02-05T07:34:50.038000Z"
    }
   },
   "outputs": [
    {
     "data": {
      "text/plain": [
       "0    948043\n",
       "1     93612\n",
       "2        19\n",
       "Name: os_name, dtype: int64"
      ]
     },
     "execution_count": 18,
     "metadata": {},
     "output_type": "execute_result"
    }
   ],
   "source": [
    "df['os_name'].map(dict(zip(df['os_name'].unique(), range(0, df['os_name'].nunique())))).value_counts()"
   ]
  },
  {
   "cell_type": "code",
   "execution_count": 19,
   "metadata": {
    "ExecuteTime": {
     "end_time": "2021-02-05T07:34:51.018000Z",
     "start_time": "2021-02-05T07:34:50.853000Z"
    }
   },
   "outputs": [
    {
     "data": {
      "text/html": [
       "<div>\n",
       "<style scoped>\n",
       "    .dataframe tbody tr th:only-of-type {\n",
       "        vertical-align: middle;\n",
       "    }\n",
       "\n",
       "    .dataframe tbody tr th {\n",
       "        vertical-align: top;\n",
       "    }\n",
       "\n",
       "    .dataframe thead th {\n",
       "        text-align: right;\n",
       "    }\n",
       "</style>\n",
       "<table border=\"1\" class=\"dataframe\">\n",
       "  <thead>\n",
       "    <tr style=\"text-align: right;\">\n",
       "      <th></th>\n",
       "      <th>index</th>\n",
       "      <th>os_name</th>\n",
       "    </tr>\n",
       "  </thead>\n",
       "  <tbody>\n",
       "    <tr>\n",
       "      <th>0</th>\n",
       "      <td>android</td>\n",
       "      <td>948043</td>\n",
       "    </tr>\n",
       "    <tr>\n",
       "      <th>1</th>\n",
       "      <td>ios</td>\n",
       "      <td>93612</td>\n",
       "    </tr>\n",
       "    <tr>\n",
       "      <th>2</th>\n",
       "      <td>unknown</td>\n",
       "      <td>19</td>\n",
       "    </tr>\n",
       "  </tbody>\n",
       "</table>\n",
       "</div>"
      ],
      "text/plain": [
       "     index  os_name\n",
       "0  android   948043\n",
       "1      ios    93612\n",
       "2  unknown       19"
      ]
     },
     "execution_count": 19,
     "metadata": {},
     "output_type": "execute_result"
    }
   ],
   "source": [
    "pd.DataFrame(df['os_name'].value_counts()).reset_index()"
   ]
  },
  {
   "cell_type": "code",
   "execution_count": 20,
   "metadata": {
    "ExecuteTime": {
     "end_time": "2021-02-05T07:34:52.343000Z",
     "start_time": "2021-02-05T07:34:52.317000Z"
    }
   },
   "outputs": [
    {
     "data": {
      "text/html": [
       "<div>\n",
       "<style scoped>\n",
       "    .dataframe tbody tr th:only-of-type {\n",
       "        vertical-align: middle;\n",
       "    }\n",
       "\n",
       "    .dataframe tbody tr th {\n",
       "        vertical-align: top;\n",
       "    }\n",
       "\n",
       "    .dataframe thead th {\n",
       "        text-align: right;\n",
       "    }\n",
       "</style>\n",
       "<table border=\"1\" class=\"dataframe\">\n",
       "  <thead>\n",
       "    <tr style=\"text-align: right;\">\n",
       "      <th></th>\n",
       "      <th>instance_id</th>\n",
       "      <th>time</th>\n",
       "      <th>city</th>\n",
       "      <th>province</th>\n",
       "      <th>user_tags</th>\n",
       "      <th>carrier</th>\n",
       "      <th>devtype</th>\n",
       "      <th>make</th>\n",
       "      <th>model</th>\n",
       "      <th>nnt</th>\n",
       "      <th>...</th>\n",
       "      <th>creative_is_jump</th>\n",
       "      <th>creative_is_download</th>\n",
       "      <th>creative_is_js</th>\n",
       "      <th>creative_is_voicead</th>\n",
       "      <th>creative_has_deeplink</th>\n",
       "      <th>app_paid</th>\n",
       "      <th>advert_name</th>\n",
       "      <th>day</th>\n",
       "      <th>hour</th>\n",
       "      <th>advert_industry_inner_1</th>\n",
       "    </tr>\n",
       "  </thead>\n",
       "  <tbody>\n",
       "    <tr>\n",
       "      <th>0</th>\n",
       "      <td>86294719979897807</td>\n",
       "      <td>2190219034</td>\n",
       "      <td>0</td>\n",
       "      <td>0</td>\n",
       "      <td>-1</td>\n",
       "      <td>0</td>\n",
       "      <td>0</td>\n",
       "      <td>0</td>\n",
       "      <td>0</td>\n",
       "      <td>0</td>\n",
       "      <td>...</td>\n",
       "      <td>0</td>\n",
       "      <td>0</td>\n",
       "      <td>0</td>\n",
       "      <td>0</td>\n",
       "      <td>0</td>\n",
       "      <td>0</td>\n",
       "      <td>0</td>\n",
       "      <td>29</td>\n",
       "      <td>2</td>\n",
       "      <td>0</td>\n",
       "    </tr>\n",
       "    <tr>\n",
       "      <th>1</th>\n",
       "      <td>2699289844928136052</td>\n",
       "      <td>2190221070</td>\n",
       "      <td>1</td>\n",
       "      <td>1</td>\n",
       "      <td>2100191,2100078,3001825,,3001781,3001791,30017...</td>\n",
       "      <td>1</td>\n",
       "      <td>0</td>\n",
       "      <td>1</td>\n",
       "      <td>1</td>\n",
       "      <td>0</td>\n",
       "      <td>...</td>\n",
       "      <td>0</td>\n",
       "      <td>0</td>\n",
       "      <td>0</td>\n",
       "      <td>0</td>\n",
       "      <td>0</td>\n",
       "      <td>0</td>\n",
       "      <td>0</td>\n",
       "      <td>29</td>\n",
       "      <td>2</td>\n",
       "      <td>0</td>\n",
       "    </tr>\n",
       "    <tr>\n",
       "      <th>2</th>\n",
       "      <td>3117527168445845752</td>\n",
       "      <td>2190219793</td>\n",
       "      <td>2</td>\n",
       "      <td>2</td>\n",
       "      <td>-1</td>\n",
       "      <td>1</td>\n",
       "      <td>0</td>\n",
       "      <td>2</td>\n",
       "      <td>2</td>\n",
       "      <td>0</td>\n",
       "      <td>...</td>\n",
       "      <td>0</td>\n",
       "      <td>0</td>\n",
       "      <td>0</td>\n",
       "      <td>0</td>\n",
       "      <td>0</td>\n",
       "      <td>0</td>\n",
       "      <td>1</td>\n",
       "      <td>29</td>\n",
       "      <td>2</td>\n",
       "      <td>1</td>\n",
       "    </tr>\n",
       "    <tr>\n",
       "      <th>3</th>\n",
       "      <td>3398484891050993371</td>\n",
       "      <td>2190221704</td>\n",
       "      <td>3</td>\n",
       "      <td>0</td>\n",
       "      <td>2100098,gd_2100000,3001791,3001795,3002193,300...</td>\n",
       "      <td>2</td>\n",
       "      <td>0</td>\n",
       "      <td>3</td>\n",
       "      <td>3</td>\n",
       "      <td>0</td>\n",
       "      <td>...</td>\n",
       "      <td>0</td>\n",
       "      <td>0</td>\n",
       "      <td>0</td>\n",
       "      <td>0</td>\n",
       "      <td>0</td>\n",
       "      <td>0</td>\n",
       "      <td>2</td>\n",
       "      <td>29</td>\n",
       "      <td>2</td>\n",
       "      <td>2</td>\n",
       "    </tr>\n",
       "    <tr>\n",
       "      <th>4</th>\n",
       "      <td>2035477570591176488</td>\n",
       "      <td>2190220024</td>\n",
       "      <td>4</td>\n",
       "      <td>0</td>\n",
       "      <td>-1</td>\n",
       "      <td>0</td>\n",
       "      <td>0</td>\n",
       "      <td>4</td>\n",
       "      <td>4</td>\n",
       "      <td>1</td>\n",
       "      <td>...</td>\n",
       "      <td>0</td>\n",
       "      <td>0</td>\n",
       "      <td>0</td>\n",
       "      <td>0</td>\n",
       "      <td>0</td>\n",
       "      <td>0</td>\n",
       "      <td>0</td>\n",
       "      <td>29</td>\n",
       "      <td>2</td>\n",
       "      <td>0</td>\n",
       "    </tr>\n",
       "  </tbody>\n",
       "</table>\n",
       "<p>5 rows × 37 columns</p>\n",
       "</div>"
      ],
      "text/plain": [
       "           instance_id        time  city  province  \\\n",
       "0    86294719979897807  2190219034     0         0   \n",
       "1  2699289844928136052  2190221070     1         1   \n",
       "2  3117527168445845752  2190219793     2         2   \n",
       "3  3398484891050993371  2190221704     3         0   \n",
       "4  2035477570591176488  2190220024     4         0   \n",
       "\n",
       "                                           user_tags  carrier  devtype  make  \\\n",
       "0                                                 -1        0        0     0   \n",
       "1  2100191,2100078,3001825,,3001781,3001791,30017...        1        0     1   \n",
       "2                                                 -1        1        0     2   \n",
       "3  2100098,gd_2100000,3001791,3001795,3002193,300...        2        0     3   \n",
       "4                                                 -1        0        0     4   \n",
       "\n",
       "   model  nnt  ...  creative_is_jump  creative_is_download creative_is_js  \\\n",
       "0      0    0  ...                 0                     0              0   \n",
       "1      1    0  ...                 0                     0              0   \n",
       "2      2    0  ...                 0                     0              0   \n",
       "3      3    0  ...                 0                     0              0   \n",
       "4      4    1  ...                 0                     0              0   \n",
       "\n",
       "   creative_is_voicead  creative_has_deeplink  app_paid  advert_name  day  \\\n",
       "0                    0                      0         0            0   29   \n",
       "1                    0                      0         0            0   29   \n",
       "2                    0                      0         0            1   29   \n",
       "3                    0                      0         0            2   29   \n",
       "4                    0                      0         0            0   29   \n",
       "\n",
       "   hour  advert_industry_inner_1  \n",
       "0     2                        0  \n",
       "1     2                        0  \n",
       "2     2                        1  \n",
       "3     2                        2  \n",
       "4     2                        0  \n",
       "\n",
       "[5 rows x 37 columns]"
      ]
     },
     "execution_count": 20,
     "metadata": {},
     "output_type": "execute_result"
    }
   ],
   "source": [
    "# check current features\n",
    "df.head()"
   ]
  },
  {
   "cell_type": "markdown",
   "metadata": {},
   "source": [
    "#### 4、Feature Engineering"
   ]
  },
  {
   "cell_type": "code",
   "execution_count": 21,
   "metadata": {
    "ExecuteTime": {
     "end_time": "2021-02-05T07:34:54.423000Z",
     "start_time": "2021-02-05T07:34:54.401000Z"
    }
   },
   "outputs": [],
   "source": [
    "count_feature_list = []\n",
    "def feature_count(data, features=[], is_feature=True):\n",
    "\n",
    "\n",
    "    if len(set(features)) != len(features): \n",
    "        print('equal feature !!!!')\n",
    "        return data\n",
    "    \n",
    "    \n",
    "\n",
    "    new_feature = 'count'\n",
    "\n",
    "    nunique = []\n",
    "    for i in features:\n",
    "        nunique.append(data[i].nunique())\n",
    "        new_feature += '_' + i.replace('add_', '')\n",
    "\n",
    "    \n",
    "    \n",
    "    if len(features) > 1 and len(data[features].drop_duplicates()) <= np.max(nunique):\n",
    "        print(new_feature, 'is unvalid cross feature:')\n",
    "        return data\n",
    "    \n",
    "\n",
    "    temp = data.groupby(features).size().reset_index().rename(columns={0: new_feature})\n",
    "\n",
    "    data = data.merge(temp, 'left', on=features)\n",
    "  \n",
    "\n",
    "\n",
    "    if is_feature:\n",
    "        count_feature_list.append(new_feature)\n",
    "        \n",
    "    if 'day_' in new_feature:\n",
    "        print('fix:', new_feature)\n",
    "        data.loc[data.day == 3, new_feature] = data[data.day == 3][new_feature] * 4\n",
    "\n",
    "    return data"
   ]
  },
  {
   "cell_type": "code",
   "execution_count": 22,
   "metadata": {
    "ExecuteTime": {
     "end_time": "2021-02-05T07:36:13.655000Z",
     "start_time": "2021-02-05T07:34:55.021000Z"
    }
   },
   "outputs": [
    {
     "name": "stdout",
     "output_type": "stream",
     "text": [
      "fix: count_day_hour_adid\n",
      "fix: count_day_hour_advert_id\n",
      "fix: count_day_hour_orderid\n",
      "fix: count_day_hour_advert_industry_inner_1\n",
      "fix: count_day_hour_advert_industry_inner\n",
      "fix: count_day_hour_advert_name\n",
      "fix: count_day_hour_campaign_id\n",
      "fix: count_day_hour_creative_id\n",
      "fix: count_day_hour_creative_tp_dnf\n",
      "fix: count_day_hour_app_cate_id\n",
      "fix: count_day_hour_f_channel\n",
      "fix: count_day_hour_app_id\n",
      "fix: count_day_hour_inner_slot_id\n",
      "fix: count_day_hour_city\n",
      "fix: count_day_hour_province\n",
      "fix: count_day_hour_nnt\n",
      "fix: count_day_hour_osv\n",
      "fix: count_day_hour_make\n",
      "fix: count_day_hour_model\n"
     ]
    }
   ],
   "source": [
    "for i in origin_cate_list:\n",
    "    n = df[i].nunique()\n",
    "    if n > 5:\n",
    "        df = feature_count(df, [i])\n",
    "        df = feature_count(df, ['day', 'hour', i])"
   ]
  },
  {
   "cell_type": "code",
   "execution_count": 95,
   "metadata": {
    "ExecuteTime": {
     "end_time": "2021-02-04T10:21:22.384000Z",
     "start_time": "2021-02-04T10:21:22.377000Z"
    }
   },
   "outputs": [
    {
     "data": {
      "text/plain": [
       "['adid',\n",
       " 'advert_id',\n",
       " 'orderid',\n",
       " 'advert_industry_inner_1',\n",
       " 'advert_industry_inner',\n",
       " 'advert_name',\n",
       " 'campaign_id',\n",
       " 'creative_id',\n",
       " 'creative_type',\n",
       " 'creative_tp_dnf',\n",
       " 'creative_has_deeplink',\n",
       " 'creative_is_jump',\n",
       " 'creative_is_download',\n",
       " 'app_cate_id',\n",
       " 'f_channel',\n",
       " 'app_id',\n",
       " 'inner_slot_id',\n",
       " 'city',\n",
       " 'carrier',\n",
       " 'province',\n",
       " 'nnt',\n",
       " 'devtype',\n",
       " 'osv',\n",
       " 'os',\n",
       " 'make',\n",
       " 'model']"
      ]
     },
     "execution_count": 95,
     "metadata": {},
     "output_type": "execute_result"
    }
   ],
   "source": [
    "origin_cate_list"
   ]
  },
  {
   "cell_type": "markdown",
   "metadata": {},
   "source": [
    "* **4.2、Add Count Features**"
   ]
  },
  {
   "cell_type": "code",
   "execution_count": 25,
   "metadata": {
    "ExecuteTime": {
     "end_time": "2021-02-05T07:05:26.809000Z",
     "start_time": "2021-02-05T07:04:49.806000Z"
    },
    "collapsed": true
   },
   "outputs": [
    {
     "name": "stdout",
     "output_type": "stream",
     "text": [
      "app_cate_id & city\n",
      "app_cate_id & province\n",
      "app_cate_id & nnt\n",
      "app_cate_id & osv\n",
      "app_cate_id & make\n",
      "app_cate_id & model\n"
     ]
    },
    {
     "ename": "KeyboardInterrupt",
     "evalue": "",
     "output_type": "error",
     "traceback": [
      "\u001b[1;31m---------------------------------------------------------------------------\u001b[0m",
      "\u001b[1;31mKeyboardInterrupt\u001b[0m                         Traceback (most recent call last)",
      "\u001b[1;32m<ipython-input-25-68f76d1720a5>\u001b[0m in \u001b[0;36m<module>\u001b[1;34m\u001b[0m\n\u001b[0;32m      4\u001b[0m     \u001b[1;32mfor\u001b[0m \u001b[0mj\u001b[0m \u001b[1;32min\u001b[0m \u001b[0mcontent_cate_feature\u001b[0m \u001b[1;33m+\u001b[0m \u001b[0mad_cate_feature\u001b[0m\u001b[1;33m:\u001b[0m\u001b[1;33m\u001b[0m\u001b[1;33m\u001b[0m\u001b[0m\n\u001b[0;32m      5\u001b[0m         \u001b[0mnew_feature\u001b[0m \u001b[1;33m=\u001b[0m \u001b[1;34m'inf_'\u001b[0m \u001b[1;33m+\u001b[0m \u001b[0mi\u001b[0m \u001b[1;33m+\u001b[0m \u001b[1;34m'_'\u001b[0m \u001b[1;33m+\u001b[0m \u001b[0mj\u001b[0m\u001b[1;33m\u001b[0m\u001b[1;33m\u001b[0m\u001b[0m\n\u001b[1;32m----> 6\u001b[1;33m         \u001b[0mdf\u001b[0m \u001b[1;33m=\u001b[0m \u001b[0mfeature_count\u001b[0m\u001b[1;33m(\u001b[0m\u001b[0mdf\u001b[0m\u001b[1;33m,\u001b[0m \u001b[1;33m[\u001b[0m\u001b[0mi\u001b[0m\u001b[1;33m,\u001b[0m \u001b[0mj\u001b[0m\u001b[1;33m]\u001b[0m\u001b[1;33m)\u001b[0m\u001b[1;33m\u001b[0m\u001b[1;33m\u001b[0m\u001b[0m\n\u001b[0m\u001b[0;32m      7\u001b[0m         \u001b[1;31m# 独立元素要大于5才做\u001b[0m\u001b[1;33m\u001b[0m\u001b[1;33m\u001b[0m\u001b[1;33m\u001b[0m\u001b[0m\n\u001b[0;32m      8\u001b[0m         \u001b[1;32mif\u001b[0m \u001b[0mdf\u001b[0m\u001b[1;33m[\u001b[0m\u001b[0mi\u001b[0m\u001b[1;33m]\u001b[0m\u001b[1;33m.\u001b[0m\u001b[0mnunique\u001b[0m\u001b[1;33m(\u001b[0m\u001b[1;33m)\u001b[0m \u001b[1;33m>\u001b[0m \u001b[1;36m5\u001b[0m \u001b[1;32mand\u001b[0m \u001b[0mdf\u001b[0m\u001b[1;33m[\u001b[0m\u001b[0mj\u001b[0m\u001b[1;33m]\u001b[0m\u001b[1;33m.\u001b[0m\u001b[0mnunique\u001b[0m\u001b[1;33m(\u001b[0m\u001b[1;33m)\u001b[0m \u001b[1;33m>\u001b[0m \u001b[1;36m5\u001b[0m\u001b[1;33m:\u001b[0m\u001b[1;33m\u001b[0m\u001b[1;33m\u001b[0m\u001b[0m\n",
      "\u001b[1;32m<ipython-input-23-0f8136546b76>\u001b[0m in \u001b[0;36mfeature_count\u001b[1;34m(data, features, is_feature)\u001b[0m\n\u001b[0;32m     31\u001b[0m     \u001b[0mtemp\u001b[0m \u001b[1;33m=\u001b[0m \u001b[0mdata\u001b[0m\u001b[1;33m.\u001b[0m\u001b[0mgroupby\u001b[0m\u001b[1;33m(\u001b[0m\u001b[0mfeatures\u001b[0m\u001b[1;33m)\u001b[0m\u001b[1;33m.\u001b[0m\u001b[0msize\u001b[0m\u001b[1;33m(\u001b[0m\u001b[1;33m)\u001b[0m\u001b[1;33m.\u001b[0m\u001b[0mreset_index\u001b[0m\u001b[1;33m(\u001b[0m\u001b[1;33m)\u001b[0m\u001b[1;33m.\u001b[0m\u001b[0mrename\u001b[0m\u001b[1;33m(\u001b[0m\u001b[0mcolumns\u001b[0m\u001b[1;33m=\u001b[0m\u001b[1;33m{\u001b[0m\u001b[1;36m0\u001b[0m\u001b[1;33m:\u001b[0m \u001b[0mnew_feature\u001b[0m\u001b[1;33m}\u001b[0m\u001b[1;33m)\u001b[0m\u001b[1;33m\u001b[0m\u001b[1;33m\u001b[0m\u001b[0m\n\u001b[0;32m     32\u001b[0m \u001b[1;33m\u001b[0m\u001b[0m\n\u001b[1;32m---> 33\u001b[1;33m     \u001b[0mdata\u001b[0m \u001b[1;33m=\u001b[0m \u001b[0mdata\u001b[0m\u001b[1;33m.\u001b[0m\u001b[0mmerge\u001b[0m\u001b[1;33m(\u001b[0m\u001b[0mtemp\u001b[0m\u001b[1;33m,\u001b[0m \u001b[1;34m'left'\u001b[0m\u001b[1;33m,\u001b[0m \u001b[0mon\u001b[0m\u001b[1;33m=\u001b[0m\u001b[0mfeatures\u001b[0m\u001b[1;33m)\u001b[0m\u001b[1;33m\u001b[0m\u001b[1;33m\u001b[0m\u001b[0m\n\u001b[0m\u001b[0;32m     34\u001b[0m     \u001b[1;31m### 第四个代码逻辑块 ###\u001b[0m\u001b[1;33m\u001b[0m\u001b[1;33m\u001b[0m\u001b[1;33m\u001b[0m\u001b[0m\n\u001b[0;32m     35\u001b[0m \u001b[1;33m\u001b[0m\u001b[0m\n",
      "\u001b[1;32mE:\\python2\\lib\\site-packages\\pandas\\core\\frame.py\u001b[0m in \u001b[0;36mmerge\u001b[1;34m(self, right, how, on, left_on, right_on, left_index, right_index, sort, suffixes, copy, indicator, validate)\u001b[0m\n\u001b[0;32m   8203\u001b[0m             \u001b[0mcopy\u001b[0m\u001b[1;33m=\u001b[0m\u001b[0mcopy\u001b[0m\u001b[1;33m,\u001b[0m\u001b[1;33m\u001b[0m\u001b[1;33m\u001b[0m\u001b[0m\n\u001b[0;32m   8204\u001b[0m             \u001b[0mindicator\u001b[0m\u001b[1;33m=\u001b[0m\u001b[0mindicator\u001b[0m\u001b[1;33m,\u001b[0m\u001b[1;33m\u001b[0m\u001b[1;33m\u001b[0m\u001b[0m\n\u001b[1;32m-> 8205\u001b[1;33m             \u001b[0mvalidate\u001b[0m\u001b[1;33m=\u001b[0m\u001b[0mvalidate\u001b[0m\u001b[1;33m,\u001b[0m\u001b[1;33m\u001b[0m\u001b[1;33m\u001b[0m\u001b[0m\n\u001b[0m\u001b[0;32m   8206\u001b[0m         )\n\u001b[0;32m   8207\u001b[0m \u001b[1;33m\u001b[0m\u001b[0m\n",
      "\u001b[1;32mE:\\python2\\lib\\site-packages\\pandas\\core\\reshape\\merge.py\u001b[0m in \u001b[0;36mmerge\u001b[1;34m(left, right, how, on, left_on, right_on, left_index, right_index, sort, suffixes, copy, indicator, validate)\u001b[0m\n\u001b[0;32m     87\u001b[0m         \u001b[0mvalidate\u001b[0m\u001b[1;33m=\u001b[0m\u001b[0mvalidate\u001b[0m\u001b[1;33m,\u001b[0m\u001b[1;33m\u001b[0m\u001b[1;33m\u001b[0m\u001b[0m\n\u001b[0;32m     88\u001b[0m     )\n\u001b[1;32m---> 89\u001b[1;33m     \u001b[1;32mreturn\u001b[0m \u001b[0mop\u001b[0m\u001b[1;33m.\u001b[0m\u001b[0mget_result\u001b[0m\u001b[1;33m(\u001b[0m\u001b[1;33m)\u001b[0m\u001b[1;33m\u001b[0m\u001b[1;33m\u001b[0m\u001b[0m\n\u001b[0m\u001b[0;32m     90\u001b[0m \u001b[1;33m\u001b[0m\u001b[0m\n\u001b[0;32m     91\u001b[0m \u001b[1;33m\u001b[0m\u001b[0m\n",
      "\u001b[1;32mE:\\python2\\lib\\site-packages\\pandas\\core\\reshape\\merge.py\u001b[0m in \u001b[0;36mget_result\u001b[1;34m(self)\u001b[0m\n\u001b[0;32m    695\u001b[0m             \u001b[0maxes\u001b[0m\u001b[1;33m=\u001b[0m\u001b[1;33m[\u001b[0m\u001b[0mllabels\u001b[0m\u001b[1;33m.\u001b[0m\u001b[0mappend\u001b[0m\u001b[1;33m(\u001b[0m\u001b[0mrlabels\u001b[0m\u001b[1;33m)\u001b[0m\u001b[1;33m,\u001b[0m \u001b[0mjoin_index\u001b[0m\u001b[1;33m]\u001b[0m\u001b[1;33m,\u001b[0m\u001b[1;33m\u001b[0m\u001b[1;33m\u001b[0m\u001b[0m\n\u001b[0;32m    696\u001b[0m             \u001b[0mconcat_axis\u001b[0m\u001b[1;33m=\u001b[0m\u001b[1;36m0\u001b[0m\u001b[1;33m,\u001b[0m\u001b[1;33m\u001b[0m\u001b[1;33m\u001b[0m\u001b[0m\n\u001b[1;32m--> 697\u001b[1;33m             \u001b[0mcopy\u001b[0m\u001b[1;33m=\u001b[0m\u001b[0mself\u001b[0m\u001b[1;33m.\u001b[0m\u001b[0mcopy\u001b[0m\u001b[1;33m,\u001b[0m\u001b[1;33m\u001b[0m\u001b[1;33m\u001b[0m\u001b[0m\n\u001b[0m\u001b[0;32m    698\u001b[0m         )\n\u001b[0;32m    699\u001b[0m \u001b[1;33m\u001b[0m\u001b[0m\n",
      "\u001b[1;32mE:\\python2\\lib\\site-packages\\pandas\\core\\internals\\concat.py\u001b[0m in \u001b[0;36mconcatenate_block_managers\u001b[1;34m(mgrs_indexers, axes, concat_axis, copy)\u001b[0m\n\u001b[0;32m     81\u001b[0m         \u001b[1;32melse\u001b[0m\u001b[1;33m:\u001b[0m\u001b[1;33m\u001b[0m\u001b[1;33m\u001b[0m\u001b[0m\n\u001b[0;32m     82\u001b[0m             b = make_block(\n\u001b[1;32m---> 83\u001b[1;33m                 \u001b[0m_concatenate_join_units\u001b[0m\u001b[1;33m(\u001b[0m\u001b[0mjoin_units\u001b[0m\u001b[1;33m,\u001b[0m \u001b[0mconcat_axis\u001b[0m\u001b[1;33m,\u001b[0m \u001b[0mcopy\u001b[0m\u001b[1;33m=\u001b[0m\u001b[0mcopy\u001b[0m\u001b[1;33m)\u001b[0m\u001b[1;33m,\u001b[0m\u001b[1;33m\u001b[0m\u001b[1;33m\u001b[0m\u001b[0m\n\u001b[0m\u001b[0;32m     84\u001b[0m                 \u001b[0mplacement\u001b[0m\u001b[1;33m=\u001b[0m\u001b[0mplacement\u001b[0m\u001b[1;33m,\u001b[0m\u001b[1;33m\u001b[0m\u001b[1;33m\u001b[0m\u001b[0m\n\u001b[0;32m     85\u001b[0m                 \u001b[0mndim\u001b[0m\u001b[1;33m=\u001b[0m\u001b[0mlen\u001b[0m\u001b[1;33m(\u001b[0m\u001b[0maxes\u001b[0m\u001b[1;33m)\u001b[0m\u001b[1;33m,\u001b[0m\u001b[1;33m\u001b[0m\u001b[1;33m\u001b[0m\u001b[0m\n",
      "\u001b[1;32mE:\\python2\\lib\\site-packages\\pandas\\core\\internals\\concat.py\u001b[0m in \u001b[0;36m_concatenate_join_units\u001b[1;34m(join_units, concat_axis, copy)\u001b[0m\n\u001b[0;32m    313\u001b[0m     to_concat = [\n\u001b[0;32m    314\u001b[0m         \u001b[0mju\u001b[0m\u001b[1;33m.\u001b[0m\u001b[0mget_reindexed_values\u001b[0m\u001b[1;33m(\u001b[0m\u001b[0mempty_dtype\u001b[0m\u001b[1;33m=\u001b[0m\u001b[0mempty_dtype\u001b[0m\u001b[1;33m,\u001b[0m \u001b[0mupcasted_na\u001b[0m\u001b[1;33m=\u001b[0m\u001b[0mupcasted_na\u001b[0m\u001b[1;33m)\u001b[0m\u001b[1;33m\u001b[0m\u001b[1;33m\u001b[0m\u001b[0m\n\u001b[1;32m--> 315\u001b[1;33m         \u001b[1;32mfor\u001b[0m \u001b[0mju\u001b[0m \u001b[1;32min\u001b[0m \u001b[0mjoin_units\u001b[0m\u001b[1;33m\u001b[0m\u001b[1;33m\u001b[0m\u001b[0m\n\u001b[0m\u001b[0;32m    316\u001b[0m     ]\n\u001b[0;32m    317\u001b[0m \u001b[1;33m\u001b[0m\u001b[0m\n",
      "\u001b[1;32mE:\\python2\\lib\\site-packages\\pandas\\core\\internals\\concat.py\u001b[0m in \u001b[0;36m<listcomp>\u001b[1;34m(.0)\u001b[0m\n\u001b[0;32m    313\u001b[0m     to_concat = [\n\u001b[0;32m    314\u001b[0m         \u001b[0mju\u001b[0m\u001b[1;33m.\u001b[0m\u001b[0mget_reindexed_values\u001b[0m\u001b[1;33m(\u001b[0m\u001b[0mempty_dtype\u001b[0m\u001b[1;33m=\u001b[0m\u001b[0mempty_dtype\u001b[0m\u001b[1;33m,\u001b[0m \u001b[0mupcasted_na\u001b[0m\u001b[1;33m=\u001b[0m\u001b[0mupcasted_na\u001b[0m\u001b[1;33m)\u001b[0m\u001b[1;33m\u001b[0m\u001b[1;33m\u001b[0m\u001b[0m\n\u001b[1;32m--> 315\u001b[1;33m         \u001b[1;32mfor\u001b[0m \u001b[0mju\u001b[0m \u001b[1;32min\u001b[0m \u001b[0mjoin_units\u001b[0m\u001b[1;33m\u001b[0m\u001b[1;33m\u001b[0m\u001b[0m\n\u001b[0m\u001b[0;32m    316\u001b[0m     ]\n\u001b[0;32m    317\u001b[0m \u001b[1;33m\u001b[0m\u001b[0m\n",
      "\u001b[1;32mE:\\python2\\lib\\site-packages\\pandas\\core\\internals\\concat.py\u001b[0m in \u001b[0;36mget_reindexed_values\u001b[1;34m(self, empty_dtype, upcasted_na)\u001b[0m\n\u001b[0;32m    296\u001b[0m         \u001b[1;32melse\u001b[0m\u001b[1;33m:\u001b[0m\u001b[1;33m\u001b[0m\u001b[1;33m\u001b[0m\u001b[0m\n\u001b[0;32m    297\u001b[0m             \u001b[1;32mfor\u001b[0m \u001b[0max\u001b[0m\u001b[1;33m,\u001b[0m \u001b[0mindexer\u001b[0m \u001b[1;32min\u001b[0m \u001b[0mself\u001b[0m\u001b[1;33m.\u001b[0m\u001b[0mindexers\u001b[0m\u001b[1;33m.\u001b[0m\u001b[0mitems\u001b[0m\u001b[1;33m(\u001b[0m\u001b[1;33m)\u001b[0m\u001b[1;33m:\u001b[0m\u001b[1;33m\u001b[0m\u001b[1;33m\u001b[0m\u001b[0m\n\u001b[1;32m--> 298\u001b[1;33m                 \u001b[0mvalues\u001b[0m \u001b[1;33m=\u001b[0m \u001b[0malgos\u001b[0m\u001b[1;33m.\u001b[0m\u001b[0mtake_nd\u001b[0m\u001b[1;33m(\u001b[0m\u001b[0mvalues\u001b[0m\u001b[1;33m,\u001b[0m \u001b[0mindexer\u001b[0m\u001b[1;33m,\u001b[0m \u001b[0maxis\u001b[0m\u001b[1;33m=\u001b[0m\u001b[0max\u001b[0m\u001b[1;33m,\u001b[0m \u001b[0mfill_value\u001b[0m\u001b[1;33m=\u001b[0m\u001b[0mfill_value\u001b[0m\u001b[1;33m)\u001b[0m\u001b[1;33m\u001b[0m\u001b[1;33m\u001b[0m\u001b[0m\n\u001b[0m\u001b[0;32m    299\u001b[0m \u001b[1;33m\u001b[0m\u001b[0m\n\u001b[0;32m    300\u001b[0m         \u001b[1;32mreturn\u001b[0m \u001b[0mvalues\u001b[0m\u001b[1;33m\u001b[0m\u001b[1;33m\u001b[0m\u001b[0m\n",
      "\u001b[1;31mKeyboardInterrupt\u001b[0m: "
     ]
    }
   ],
   "source": [
    "# need 52 minutes\n",
    "ratio_feature_list = []\n",
    "for i in media_cate_feature:\n",
    "    for j in content_cate_feature + ad_cate_feature:\n",
    "        new_feature = 'inf_' + i + '_' + j\n",
    "        df = feature_count(df, [i, j])\n",
    "        # nunique > 5 then run\n",
    "        if df[i].nunique() > 5 and df[j].nunique() > 5:\n",
    "            df['ratio_' + j + '_of_' + i] = df[ 'count_' + i + '_' + j] / df['count_' + i]\n",
    "            df['ratio_' + i + '_of_' + j] = df['count_' + i + '_' + j] / df['count_' + j]\n",
    "            ratio_feature_list.append('ratio_' + j + '_of_' + i)\n",
    "            ratio_feature_list.append('ratio_' + i + '_of_' + j)\n",
    "            print(i,'&',j)"
   ]
  },
  {
   "cell_type": "code",
   "execution_count": 26,
   "metadata": {
    "ExecuteTime": {
     "end_time": "2021-02-05T07:18:11.377000Z",
     "start_time": "2021-02-05T07:18:11.371000Z"
    }
   },
   "outputs": [],
   "source": [
    "# Export Data\n",
    "# df.to_pickle('df_ratioed.pkl')"
   ]
  },
  {
   "cell_type": "code",
   "execution_count": 23,
   "metadata": {
    "ExecuteTime": {
     "end_time": "2021-02-05T07:39:00.409000Z",
     "start_time": "2021-02-05T07:38:43.688000Z"
    }
   },
   "outputs": [],
   "source": [
    "# Read Data\n",
    "df = pd.read_pickle('df_ratioed.pkl')"
   ]
  },
  {
   "cell_type": "markdown",
   "metadata": {},
   "source": [
    "* **4.3 Combine features list and check number of features**"
   ]
  },
  {
   "cell_type": "code",
   "execution_count": 28,
   "metadata": {
    "ExecuteTime": {
     "end_time": "2021-02-05T07:39:35.817000Z",
     "start_time": "2021-02-05T07:39:35.806000Z"
    },
    "collapsed": true
   },
   "outputs": [
    {
     "name": "stdout",
     "output_type": "stream",
     "text": [
      "292 ['adid', 'advert_id', 'orderid', 'advert_industry_inner_1', 'advert_industry_inner', 'advert_name', 'campaign_id', 'creative_id', 'creative_type', 'creative_tp_dnf', 'creative_has_deeplink', 'creative_is_jump', 'creative_is_download', 'app_cate_id', 'f_channel', 'app_id', 'inner_slot_id', 'city', 'carrier', 'province', 'nnt', 'devtype', 'osv', 'os', 'make', 'model', 'creative_width', 'creative_height', 'hour', 'count_day_hour_creative_id', 'count_adid', 'count_day_hour_adid', 'count_advert_id', 'count_day_hour_advert_id', 'count_orderid', 'count_day_hour_orderid', 'count_advert_industry_inner_1', 'count_day_hour_advert_industry_inner_1', 'count_advert_industry_inner', 'count_day_hour_advert_industry_inner', 'count_advert_name', 'count_day_hour_advert_name', 'count_campaign_id', 'count_day_hour_campaign_id', 'count_creative_id', 'count_day_hour_creative_id', 'count_adid', 'count_day_hour_adid', 'count_advert_id', 'count_day_hour_advert_id', 'count_orderid', 'count_day_hour_orderid', 'count_advert_industry_inner_1', 'count_day_hour_advert_industry_inner_1', 'count_advert_industry_inner', 'count_day_hour_advert_industry_inner', 'count_advert_name', 'count_day_hour_advert_name', 'count_campaign_id', 'count_day_hour_campaign_id', 'count_creative_id', 'count_day_hour_creative_id', 'count_creative_tp_dnf', 'count_day_hour_creative_tp_dnf', 'count_app_cate_id', 'count_day_hour_app_cate_id', 'count_f_channel', 'count_day_hour_f_channel', 'count_app_id', 'count_day_hour_app_id', 'count_inner_slot_id', 'count_day_hour_inner_slot_id', 'count_city', 'count_day_hour_city', 'count_province', 'count_day_hour_province', 'count_nnt', 'count_day_hour_nnt', 'count_osv', 'count_day_hour_osv', 'count_make', 'count_day_hour_make', 'count_model', 'count_day_hour_model', 'count_app_cate_id_city', 'count_app_cate_id_carrier', 'count_app_cate_id_province', 'count_app_cate_id_nnt', 'count_app_cate_id_devtype', 'count_app_cate_id_osv', 'count_app_cate_id_os', 'count_app_cate_id_make', 'count_app_cate_id_model', 'count_app_cate_id_adid', 'count_app_cate_id_advert_id', 'count_app_cate_id_orderid', 'count_app_cate_id_advert_industry_inner_1', 'count_app_cate_id_advert_industry_inner', 'count_app_cate_id_advert_name', 'count_app_cate_id_campaign_id', 'count_app_cate_id_creative_id', 'count_app_cate_id_creative_type', 'count_app_cate_id_creative_tp_dnf', 'count_app_cate_id_creative_has_deeplink', 'count_app_cate_id_creative_is_jump', 'count_app_cate_id_creative_is_download', 'count_f_channel_city', 'count_f_channel_carrier', 'count_f_channel_province', 'count_f_channel_nnt', 'count_f_channel_devtype', 'count_f_channel_osv', 'count_f_channel_os', 'count_f_channel_make', 'count_f_channel_model', 'count_f_channel_adid', 'count_f_channel_advert_id', 'count_f_channel_orderid', 'count_f_channel_advert_industry_inner_1', 'count_f_channel_advert_industry_inner', 'count_f_channel_advert_name', 'count_f_channel_campaign_id', 'count_f_channel_creative_id', 'count_f_channel_creative_type', 'count_f_channel_creative_tp_dnf', 'count_f_channel_creative_has_deeplink', 'count_f_channel_creative_is_jump', 'count_f_channel_creative_is_download', 'count_app_id_city', 'count_app_id_carrier', 'count_app_id_province', 'count_app_id_nnt', 'count_app_id_devtype', 'count_app_id_osv', 'count_app_id_os', 'count_app_id_make', 'count_app_id_model', 'count_app_id_adid', 'count_app_id_advert_id', 'count_app_id_orderid', 'count_app_id_advert_industry_inner_1', 'count_app_id_advert_industry_inner', 'count_app_id_advert_name', 'count_app_id_campaign_id', 'count_app_id_creative_id', 'count_app_id_creative_type', 'count_app_id_creative_tp_dnf', 'count_app_id_creative_has_deeplink', 'count_app_id_creative_is_jump', 'count_app_id_creative_is_download', 'count_inner_slot_id_city', 'count_inner_slot_id_carrier', 'count_inner_slot_id_province', 'count_inner_slot_id_nnt', 'count_inner_slot_id_devtype', 'count_inner_slot_id_osv', 'count_inner_slot_id_os', 'count_inner_slot_id_make', 'count_inner_slot_id_model', 'count_inner_slot_id_adid', 'count_inner_slot_id_advert_id', 'count_inner_slot_id_orderid', 'count_inner_slot_id_advert_industry_inner_1', 'count_inner_slot_id_advert_industry_inner', 'count_inner_slot_id_advert_name', 'count_inner_slot_id_campaign_id', 'count_inner_slot_id_creative_id', 'count_inner_slot_id_creative_type', 'count_inner_slot_id_creative_tp_dnf', 'count_inner_slot_id_creative_has_deeplink', 'count_inner_slot_id_creative_is_jump', 'count_inner_slot_id_creative_is_download', 'ratio_city_of_app_cate_id', 'ratio_app_cate_id_of_city', 'ratio_province_of_app_cate_id', 'ratio_app_cate_id_of_province', 'ratio_nnt_of_app_cate_id', 'ratio_app_cate_id_of_nnt', 'ratio_osv_of_app_cate_id', 'ratio_app_cate_id_of_osv', 'ratio_make_of_app_cate_id', 'ratio_app_cate_id_of_make', 'ratio_model_of_app_cate_id', 'ratio_app_cate_id_of_model', 'ratio_adid_of_app_cate_id', 'ratio_app_cate_id_of_adid', 'ratio_advert_id_of_app_cate_id', 'ratio_app_cate_id_of_advert_id', 'ratio_orderid_of_app_cate_id', 'ratio_app_cate_id_of_orderid', 'ratio_advert_industry_inner_1_of_app_cate_id', 'ratio_app_cate_id_of_advert_industry_inner_1', 'ratio_advert_industry_inner_of_app_cate_id', 'ratio_app_cate_id_of_advert_industry_inner', 'ratio_advert_name_of_app_cate_id', 'ratio_app_cate_id_of_advert_name', 'ratio_campaign_id_of_app_cate_id', 'ratio_app_cate_id_of_campaign_id', 'ratio_creative_id_of_app_cate_id', 'ratio_app_cate_id_of_creative_id', 'ratio_creative_tp_dnf_of_app_cate_id', 'ratio_app_cate_id_of_creative_tp_dnf', 'ratio_city_of_f_channel', 'ratio_f_channel_of_city', 'ratio_province_of_f_channel', 'ratio_f_channel_of_province', 'ratio_nnt_of_f_channel', 'ratio_f_channel_of_nnt', 'ratio_osv_of_f_channel', 'ratio_f_channel_of_osv', 'ratio_make_of_f_channel', 'ratio_f_channel_of_make', 'ratio_model_of_f_channel', 'ratio_f_channel_of_model', 'ratio_adid_of_f_channel', 'ratio_f_channel_of_adid', 'ratio_advert_id_of_f_channel', 'ratio_f_channel_of_advert_id', 'ratio_orderid_of_f_channel', 'ratio_f_channel_of_orderid', 'ratio_advert_industry_inner_1_of_f_channel', 'ratio_f_channel_of_advert_industry_inner_1', 'ratio_advert_industry_inner_of_f_channel', 'ratio_f_channel_of_advert_industry_inner', 'ratio_advert_name_of_f_channel', 'ratio_f_channel_of_advert_name', 'ratio_campaign_id_of_f_channel', 'ratio_f_channel_of_campaign_id', 'ratio_creative_id_of_f_channel', 'ratio_f_channel_of_creative_id', 'ratio_creative_tp_dnf_of_f_channel', 'ratio_f_channel_of_creative_tp_dnf', 'ratio_city_of_app_id', 'ratio_app_id_of_city', 'ratio_province_of_app_id', 'ratio_app_id_of_province', 'ratio_nnt_of_app_id', 'ratio_app_id_of_nnt', 'ratio_osv_of_app_id', 'ratio_app_id_of_osv', 'ratio_make_of_app_id', 'ratio_app_id_of_make', 'ratio_model_of_app_id', 'ratio_app_id_of_model', 'ratio_adid_of_app_id', 'ratio_app_id_of_adid', 'ratio_advert_id_of_app_id', 'ratio_app_id_of_advert_id', 'ratio_orderid_of_app_id', 'ratio_app_id_of_orderid', 'ratio_advert_industry_inner_1_of_app_id', 'ratio_app_id_of_advert_industry_inner_1', 'ratio_advert_industry_inner_of_app_id', 'ratio_app_id_of_advert_industry_inner', 'ratio_advert_name_of_app_id', 'ratio_app_id_of_advert_name', 'ratio_campaign_id_of_app_id', 'ratio_app_id_of_campaign_id', 'ratio_creative_id_of_app_id', 'ratio_app_id_of_creative_id', 'ratio_creative_tp_dnf_of_app_id', 'ratio_app_id_of_creative_tp_dnf', 'ratio_city_of_inner_slot_id', 'ratio_inner_slot_id_of_city', 'ratio_province_of_inner_slot_id', 'ratio_inner_slot_id_of_province', 'ratio_nnt_of_inner_slot_id', 'ratio_inner_slot_id_of_nnt', 'ratio_osv_of_inner_slot_id', 'ratio_inner_slot_id_of_osv', 'ratio_make_of_inner_slot_id', 'ratio_inner_slot_id_of_make', 'ratio_model_of_inner_slot_id', 'ratio_inner_slot_id_of_model', 'ratio_adid_of_inner_slot_id', 'ratio_inner_slot_id_of_adid', 'ratio_advert_id_of_inner_slot_id', 'ratio_inner_slot_id_of_advert_id', 'ratio_orderid_of_inner_slot_id', 'ratio_inner_slot_id_of_orderid', 'ratio_advert_industry_inner_1_of_inner_slot_id', 'ratio_inner_slot_id_of_advert_industry_inner_1', 'ratio_advert_industry_inner_of_inner_slot_id', 'ratio_inner_slot_id_of_advert_industry_inner', 'ratio_advert_name_of_inner_slot_id', 'ratio_inner_slot_id_of_advert_name', 'ratio_campaign_id_of_inner_slot_id', 'ratio_inner_slot_id_of_campaign_id', 'ratio_creative_id_of_inner_slot_id', 'ratio_inner_slot_id_of_creative_id', 'ratio_creative_tp_dnf_of_inner_slot_id', 'ratio_inner_slot_id_of_creative_tp_dnf']\n"
     ]
    }
   ],
   "source": [
    "cate_feature = origin_cate_list\n",
    "num_feature = ['creative_width', 'creative_height', 'hour'] + count_feature_list + ratio_feature_list\n",
    "feature = cate_feature + num_feature\n",
    "print(len(feature), feature)"
   ]
  },
  {
   "cell_type": "markdown",
   "metadata": {},
   "source": [
    "* **4.4 Filter out features with less than 2 unique values**"
   ]
  },
  {
   "cell_type": "code",
   "execution_count": 29,
   "metadata": {
    "ExecuteTime": {
     "end_time": "2021-02-05T07:39:39.653000Z",
     "start_time": "2021-02-05T07:39:39.283000Z"
    }
   },
   "outputs": [
    {
     "name": "stdout",
     "output_type": "stream",
     "text": [
      "adid\n",
      "advert_id\n",
      "orderid\n",
      "advert_industry_inner_1\n",
      "advert_industry_inner\n",
      "advert_name\n",
      "campaign_id\n",
      "creative_id\n",
      "creative_tp_dnf\n",
      "app_cate_id\n",
      "f_channel\n",
      "app_id\n",
      "inner_slot_id\n",
      "city\n",
      "province\n",
      "nnt\n",
      "osv\n",
      "make\n",
      "model\n"
     ]
    }
   ],
   "source": [
    "for feature in cate_feature:\n",
    "    if 'count_' + feature in df.keys(): \n",
    "        print(feature)\n",
    "        df.loc[df['count_' + feature] < 2, feature] = -1\n",
    "        df[feature] = df[feature] + 1"
   ]
  },
  {
   "cell_type": "markdown",
   "metadata": {},
   "source": [
    "* **4.5 build train and test dataset**"
   ]
  },
  {
   "cell_type": "code",
   "execution_count": 30,
   "metadata": {
    "ExecuteTime": {
     "end_time": "2021-02-05T07:39:42.539000Z",
     "start_time": "2021-02-05T07:39:42.449000Z"
    }
   },
   "outputs": [],
   "source": [
    "label = list(click) + [-1]* (len(df) - len(click))"
   ]
  },
  {
   "cell_type": "code",
   "execution_count": 31,
   "metadata": {
    "ExecuteTime": {
     "end_time": "2021-02-05T07:39:45.938000Z",
     "start_time": "2021-02-05T07:39:43.812000Z"
    }
   },
   "outputs": [],
   "source": [
    "df['label'] = label"
   ]
  },
  {
   "cell_type": "code",
   "execution_count": 32,
   "metadata": {
    "ExecuteTime": {
     "end_time": "2021-02-05T07:39:47.229000Z",
     "start_time": "2021-02-05T07:39:47.171000Z"
    }
   },
   "outputs": [],
   "source": [
    "# test\n",
    "predict = df[df.label == -1]"
   ]
  },
  {
   "cell_type": "code",
   "execution_count": 33,
   "metadata": {
    "ExecuteTime": {
     "end_time": "2021-02-05T07:39:49.407000Z",
     "start_time": "2021-02-05T07:39:49.392000Z"
    }
   },
   "outputs": [
    {
     "name": "stderr",
     "output_type": "stream",
     "text": [
      "E:\\python2\\lib\\site-packages\\ipykernel_launcher.py:5: SettingWithCopyWarning: \n",
      "A value is trying to be set on a copy of a slice from a DataFrame.\n",
      "Try using .loc[row_indexer,col_indexer] = value instead\n",
      "\n",
      "See the caveats in the documentation: https://pandas.pydata.org/pandas-docs/stable/user_guide/indexing.html#returning-a-view-versus-a-copy\n",
      "  \"\"\"\n"
     ]
    }
   ],
   "source": [
    "predict_result = predict[['instance_id']]\n",
    "\n",
    "predict_result['predicted_score'] = 0"
   ]
  },
  {
   "cell_type": "code",
   "execution_count": 34,
   "metadata": {
    "ExecuteTime": {
     "end_time": "2021-02-05T07:39:53.121000Z",
     "start_time": "2021-02-05T07:39:50.840000Z"
    }
   },
   "outputs": [],
   "source": [
    "predict_x = predict.drop('label', axis=1)\n",
    "\n",
    "train_x = df[df.label != -1].reset_index(drop=True)\n",
    "\n",
    "train_y = train_x.pop('label').values"
   ]
  },
  {
   "cell_type": "code",
   "execution_count": 35,
   "metadata": {
    "ExecuteTime": {
     "end_time": "2021-02-05T07:39:54.503000Z",
     "start_time": "2021-02-05T07:39:54.493000Z"
    }
   },
   "outputs": [
    {
     "data": {
      "text/plain": [
       "(1001650, 283)"
      ]
     },
     "execution_count": 35,
     "metadata": {},
     "output_type": "execute_result"
    }
   ],
   "source": [
    "train_x.shape"
   ]
  },
  {
   "cell_type": "code",
   "execution_count": 36,
   "metadata": {
    "ExecuteTime": {
     "end_time": "2021-02-05T07:39:56.904000Z",
     "start_time": "2021-02-05T07:39:56.895000Z"
    }
   },
   "outputs": [
    {
     "data": {
      "text/plain": [
       "(40024, 283)"
      ]
     },
     "execution_count": 36,
     "metadata": {},
     "output_type": "execute_result"
    }
   ],
   "source": [
    "predict_x.shape"
   ]
  },
  {
   "cell_type": "markdown",
   "metadata": {},
   "source": [
    "* **4.6 Sparse Matrix**"
   ]
  },
  {
   "cell_type": "code",
   "execution_count": 38,
   "metadata": {
    "ExecuteTime": {
     "end_time": "2021-02-05T07:40:00.321000Z",
     "start_time": "2021-02-05T07:40:00.313000Z"
    }
   },
   "outputs": [],
   "source": [
    "# build train Sparse matrix\n",
    "base_train_csr = sparse.csr_matrix((len(train_x), 0))"
   ]
  },
  {
   "cell_type": "code",
   "execution_count": 39,
   "metadata": {
    "ExecuteTime": {
     "end_time": "2021-02-05T07:40:01.199000Z",
     "start_time": "2021-02-05T07:40:01.191000Z"
    }
   },
   "outputs": [],
   "source": [
    "# build test Sparse matrix\n",
    "base_predict_csr = sparse.csr_matrix((len(predict_x), 0))"
   ]
  },
  {
   "cell_type": "markdown",
   "metadata": {},
   "source": [
    "* **4.7 one-hotencode**"
   ]
  },
  {
   "cell_type": "code",
   "execution_count": 40,
   "metadata": {
    "ExecuteTime": {
     "end_time": "2021-02-05T07:40:17.597000Z",
     "start_time": "2021-02-05T07:40:05.506000Z"
    }
   },
   "outputs": [
    {
     "name": "stdout",
     "output_type": "stream",
     "text": [
      "one-hot prepared !\n"
     ]
    }
   ],
   "source": [
    "# bool->int32->float32->float64\n",
    "\n",
    "enc = OneHotEncoder()\n",
    "for feature in cate_feature:\n",
    "    enc.fit(df[feature].values.reshape(-1, 1))\n",
    "    base_train_csr = sparse.hstack((base_train_csr, enc.transform(train_x[feature].values.reshape(-1, 1))), 'csr', 'bool')\n",
    "    base_predict_csr = sparse.hstack((base_predict_csr, enc.transform(predict_x[feature].values.reshape(-1, 1))), 'csr', 'bool')\n",
    "print('one-hot prepared !')"
   ]
  },
  {
   "cell_type": "code",
   "execution_count": 41,
   "metadata": {
    "ExecuteTime": {
     "end_time": "2021-02-05T07:40:29.636000Z",
     "start_time": "2021-02-05T07:40:29.625000Z"
    }
   },
   "outputs": [
    {
     "data": {
      "text/plain": [
       "(1001650, 17131)"
      ]
     },
     "execution_count": 41,
     "metadata": {},
     "output_type": "execute_result"
    }
   ],
   "source": [
    "base_train_csr.shape"
   ]
  },
  {
   "cell_type": "code",
   "execution_count": 42,
   "metadata": {
    "ExecuteTime": {
     "end_time": "2021-02-05T07:40:29.884000Z",
     "start_time": "2021-02-05T07:40:29.879000Z"
    }
   },
   "outputs": [
    {
     "data": {
      "text/plain": [
       "(40024, 17131)"
      ]
     },
     "execution_count": 42,
     "metadata": {},
     "output_type": "execute_result"
    }
   ],
   "source": [
    "base_predict_csr.shape"
   ]
  },
  {
   "cell_type": "markdown",
   "metadata": {},
   "source": [
    "* **4.8、user_tags feature**"
   ]
  },
  {
   "cell_type": "code",
   "execution_count": 44,
   "metadata": {
    "ExecuteTime": {
     "end_time": "2021-02-05T07:41:21.950000Z",
     "start_time": "2021-02-05T07:40:47.250000Z"
    }
   },
   "outputs": [
    {
     "name": "stdout",
     "output_type": "stream",
     "text": [
      "cv prepared !\n"
     ]
    }
   ],
   "source": [
    "# Build a text feature extractor\n",
    "cv = CountVectorizer(min_df=20)\n",
    "\n",
    "for feature in ['user_tags']:\n",
    "    df[feature] = df[feature].astype(str)\n",
    "    cv.fit(df[feature])\n",
    "    base_train_csr = sparse.hstack((base_train_csr, cv.transform(train_x[feature].astype(str))), 'csr', 'bool')\n",
    "    base_predict_csr = sparse.hstack((base_predict_csr, cv.transform(predict_x[feature].astype(str))), 'csr', 'bool')\n",
    "print('cv prepared !')"
   ]
  },
  {
   "cell_type": "code",
   "execution_count": 45,
   "metadata": {
    "ExecuteTime": {
     "end_time": "2021-02-05T07:41:33.272000Z",
     "start_time": "2021-02-05T07:41:33.266000Z"
    }
   },
   "outputs": [],
   "source": [
    "# min_df = 20 Means \"ignore terms appearing in less than 20 documents\".\n",
    "cv = CountVectorizer(min_df=20)"
   ]
  },
  {
   "cell_type": "code",
   "execution_count": 46,
   "metadata": {
    "ExecuteTime": {
     "end_time": "2021-02-05T07:41:33.825000Z",
     "start_time": "2021-02-05T07:41:33.822000Z"
    }
   },
   "outputs": [
    {
     "data": {
      "text/plain": [
       "(1001650, 18443)"
      ]
     },
     "execution_count": 46,
     "metadata": {},
     "output_type": "execute_result"
    }
   ],
   "source": [
    "base_train_csr.shape"
   ]
  },
  {
   "cell_type": "code",
   "execution_count": 47,
   "metadata": {
    "ExecuteTime": {
     "end_time": "2021-02-05T07:41:35.098000Z",
     "start_time": "2021-02-05T07:41:35.087000Z"
    }
   },
   "outputs": [
    {
     "data": {
      "text/plain": [
       "(40024, 18443)"
      ]
     },
     "execution_count": 47,
     "metadata": {},
     "output_type": "execute_result"
    }
   ],
   "source": [
    "base_predict_csr.shape"
   ]
  },
  {
   "cell_type": "code",
   "execution_count": 83,
   "metadata": {
    "ExecuteTime": {
     "end_time": "2021-02-05T08:32:14.542000Z",
     "start_time": "2021-02-05T08:32:14.338000Z"
    }
   },
   "outputs": [
    {
     "data": {
      "text/plain": [
       "2396.562267303467"
      ]
     },
     "execution_count": 83,
     "metadata": {},
     "output_type": "execute_result"
    }
   ],
   "source": [
    "# The memory size of a single object, the unit is Byte, converted to MB\n",
    "sys.getsizeof(train_x)/1024/1024"
   ]
  },
  {
   "cell_type": "code",
   "execution_count": 79,
   "metadata": {
    "ExecuteTime": {
     "end_time": "2021-02-05T08:30:08.815000Z",
     "start_time": "2021-02-05T08:30:08.805000Z"
    }
   },
   "outputs": [
    {
     "data": {
      "text/plain": [
       "56"
      ]
     },
     "execution_count": 79,
     "metadata": {},
     "output_type": "execute_result"
    }
   ],
   "source": [
    "# The memory size of a single object, in Bytes\n",
    "sys.getsizeof(base_train_csr)"
   ]
  },
  {
   "cell_type": "markdown",
   "metadata": {},
   "source": [
    "* **Feature Selection**"
   ]
  },
  {
   "cell_type": "code",
   "execution_count": 48,
   "metadata": {
    "ExecuteTime": {
     "end_time": "2021-02-05T07:41:36.190000Z",
     "start_time": "2021-02-05T07:41:35.879000Z"
    }
   },
   "outputs": [],
   "source": [
    "from sklearn.feature_selection import SelectKBest,SelectPercentile\n",
    "from sklearn.feature_selection import chi2"
   ]
  },
  {
   "cell_type": "code",
   "execution_count": 49,
   "metadata": {
    "ExecuteTime": {
     "end_time": "2021-02-05T07:42:36.842000Z",
     "start_time": "2021-02-05T07:42:36.837000Z"
    }
   },
   "outputs": [],
   "source": [
    "from sklearn.feature_selection import VarianceThreshold"
   ]
  },
  {
   "cell_type": "code",
   "execution_count": 68,
   "metadata": {
    "ExecuteTime": {
     "end_time": "2021-02-05T07:45:24.393000Z",
     "start_time": "2021-02-05T07:45:24.389000Z"
    }
   },
   "outputs": [],
   "source": [
    "sel_var = VarianceThreshold(threshold=0.001)"
   ]
  },
  {
   "cell_type": "code",
   "execution_count": 69,
   "metadata": {
    "ExecuteTime": {
     "end_time": "2021-02-05T07:45:25.120000Z",
     "start_time": "2021-02-05T07:45:24.579000Z"
    }
   },
   "outputs": [
    {
     "data": {
      "text/plain": [
       "VarianceThreshold(threshold=0.001)"
      ]
     },
     "execution_count": 69,
     "metadata": {},
     "output_type": "execute_result"
    }
   ],
   "source": [
    "sel_var.fit(base_train_csr)"
   ]
  },
  {
   "cell_type": "code",
   "execution_count": 72,
   "metadata": {
    "ExecuteTime": {
     "end_time": "2021-02-05T07:45:39.400000Z",
     "start_time": "2021-02-05T07:45:39.207000Z"
    }
   },
   "outputs": [],
   "source": [
    "base_train_csr = sel_var.transform(base_train_csr)"
   ]
  },
  {
   "cell_type": "code",
   "execution_count": 73,
   "metadata": {
    "ExecuteTime": {
     "end_time": "2021-02-05T07:45:39.502000Z",
     "start_time": "2021-02-05T07:45:39.491000Z"
    }
   },
   "outputs": [],
   "source": [
    "base_predict_csr = sel_var.transform(base_predict_csr)"
   ]
  },
  {
   "cell_type": "markdown",
   "metadata": {},
   "source": [
    "* **4.9、Sparse Matrix: transfer from bool to float**"
   ]
  },
  {
   "cell_type": "code",
   "execution_count": 74,
   "metadata": {
    "ExecuteTime": {
     "end_time": "2021-02-05T07:48:05.468000Z",
     "start_time": "2021-02-05T07:45:45.371000Z"
    }
   },
   "outputs": [],
   "source": [
    "train_csr = sparse.hstack( (sparse.csr_matrix(train_x[num_feature]), base_train_csr), 'csr').astype('float32')\n",
    "predict_csr = sparse.hstack((sparse.csr_matrix(predict_x[num_feature]), base_predict_csr), 'csr').astype('float32')"
   ]
  },
  {
   "cell_type": "code",
   "execution_count": 82,
   "metadata": {
    "ExecuteTime": {
     "end_time": "2021-02-05T08:31:00.277000Z",
     "start_time": "2021-02-05T08:31:00.270000Z"
    }
   },
   "outputs": [
    {
     "data": {
      "text/plain": [
       "56"
      ]
     },
     "execution_count": 82,
     "metadata": {},
     "output_type": "execute_result"
    }
   ],
   "source": [
    "sys.getsizeof(train_csr)"
   ]
  },
  {
   "cell_type": "markdown",
   "metadata": {},
   "source": [
    "#### 5、构建模型及交叉验证"
   ]
  },
  {
   "cell_type": "code",
   "execution_count": 75,
   "metadata": {
    "ExecuteTime": {
     "end_time": "2021-02-05T08:01:17.927000Z",
     "start_time": "2021-02-05T08:01:17.847000Z"
    }
   },
   "outputs": [],
   "source": [
    "# Build lightgbm model\n",
    "lgb_model = lgb.LGBMClassifier(\n",
    "    boosting_type='gbdt', num_leaves=61, reg_alpha=3, reg_lambda=1,\n",
    "    max_depth=-1, n_estimators=5000, objective='binary',\n",
    "    subsample=0.8, colsample_bytree=0.8, subsample_freq=1,\n",
    "    learning_rate=0.035, random_state=2018, n_jobs=10\n",
    ")\n",
    "# Kfold = 5\n",
    "skf = StratifiedKFold(n_splits=5, random_state=2018, shuffle=True)"
   ]
  },
  {
   "cell_type": "markdown",
   "metadata": {},
   "source": [
    "* **5.1、模型训练及评估**"
   ]
  },
  {
   "cell_type": "code",
   "execution_count": 76,
   "metadata": {
    "ExecuteTime": {
     "end_time": "2021-02-05T08:28:32.424000Z",
     "start_time": "2021-02-05T08:01:23.854000Z"
    }
   },
   "outputs": [
    {
     "name": "stdout",
     "output_type": "stream",
     "text": [
      "Training until validation scores don't improve for 200 rounds\n",
      "[10]\tvalid_0's binary_logloss: 0.464223\tvalid_1's binary_logloss: 0.46433\n",
      "[20]\tvalid_0's binary_logloss: 0.445624\tvalid_1's binary_logloss: 0.445814\n",
      "[30]\tvalid_0's binary_logloss: 0.434578\tvalid_1's binary_logloss: 0.434864\n",
      "[40]\tvalid_0's binary_logloss: 0.427802\tvalid_1's binary_logloss: 0.428155\n",
      "[50]\tvalid_0's binary_logloss: 0.42353\tvalid_1's binary_logloss: 0.424008\n",
      "[60]\tvalid_0's binary_logloss: 0.420709\tvalid_1's binary_logloss: 0.421289\n",
      "[70]\tvalid_0's binary_logloss: 0.418832\tvalid_1's binary_logloss: 0.419525\n",
      "[80]\tvalid_0's binary_logloss: 0.417531\tvalid_1's binary_logloss: 0.418362\n",
      "[90]\tvalid_0's binary_logloss: 0.416558\tvalid_1's binary_logloss: 0.417536\n",
      "[100]\tvalid_0's binary_logloss: 0.415814\tvalid_1's binary_logloss: 0.416963\n",
      "[110]\tvalid_0's binary_logloss: 0.415219\tvalid_1's binary_logloss: 0.416549\n",
      "[120]\tvalid_0's binary_logloss: 0.414717\tvalid_1's binary_logloss: 0.416234\n",
      "[130]\tvalid_0's binary_logloss: 0.414252\tvalid_1's binary_logloss: 0.415967\n",
      "[140]\tvalid_0's binary_logloss: 0.413842\tvalid_1's binary_logloss: 0.415774\n",
      "[150]\tvalid_0's binary_logloss: 0.413458\tvalid_1's binary_logloss: 0.415608\n",
      "[160]\tvalid_0's binary_logloss: 0.413096\tvalid_1's binary_logloss: 0.415462\n",
      "[170]\tvalid_0's binary_logloss: 0.41275\tvalid_1's binary_logloss: 0.415349\n",
      "[180]\tvalid_0's binary_logloss: 0.412432\tvalid_1's binary_logloss: 0.41526\n",
      "[190]\tvalid_0's binary_logloss: 0.412119\tvalid_1's binary_logloss: 0.415187\n",
      "[200]\tvalid_0's binary_logloss: 0.411809\tvalid_1's binary_logloss: 0.415122\n",
      "[210]\tvalid_0's binary_logloss: 0.411518\tvalid_1's binary_logloss: 0.415061\n",
      "[220]\tvalid_0's binary_logloss: 0.411236\tvalid_1's binary_logloss: 0.414998\n",
      "[230]\tvalid_0's binary_logloss: 0.410958\tvalid_1's binary_logloss: 0.414943\n",
      "[240]\tvalid_0's binary_logloss: 0.410693\tvalid_1's binary_logloss: 0.414906\n",
      "[250]\tvalid_0's binary_logloss: 0.410435\tvalid_1's binary_logloss: 0.414858\n",
      "[260]\tvalid_0's binary_logloss: 0.410174\tvalid_1's binary_logloss: 0.414819\n",
      "[270]\tvalid_0's binary_logloss: 0.409919\tvalid_1's binary_logloss: 0.414777\n",
      "[280]\tvalid_0's binary_logloss: 0.409652\tvalid_1's binary_logloss: 0.414736\n",
      "[290]\tvalid_0's binary_logloss: 0.409405\tvalid_1's binary_logloss: 0.414714\n",
      "[300]\tvalid_0's binary_logloss: 0.409153\tvalid_1's binary_logloss: 0.414676\n",
      "[310]\tvalid_0's binary_logloss: 0.408907\tvalid_1's binary_logloss: 0.414671\n",
      "[320]\tvalid_0's binary_logloss: 0.408654\tvalid_1's binary_logloss: 0.414636\n",
      "[330]\tvalid_0's binary_logloss: 0.408419\tvalid_1's binary_logloss: 0.414614\n",
      "[340]\tvalid_0's binary_logloss: 0.408176\tvalid_1's binary_logloss: 0.414594\n",
      "[350]\tvalid_0's binary_logloss: 0.407949\tvalid_1's binary_logloss: 0.41458\n",
      "[360]\tvalid_0's binary_logloss: 0.407727\tvalid_1's binary_logloss: 0.414568\n",
      "[370]\tvalid_0's binary_logloss: 0.407502\tvalid_1's binary_logloss: 0.414547\n",
      "[380]\tvalid_0's binary_logloss: 0.40727\tvalid_1's binary_logloss: 0.41454\n",
      "[390]\tvalid_0's binary_logloss: 0.407052\tvalid_1's binary_logloss: 0.414527\n",
      "[400]\tvalid_0's binary_logloss: 0.406829\tvalid_1's binary_logloss: 0.414518\n",
      "[410]\tvalid_0's binary_logloss: 0.406608\tvalid_1's binary_logloss: 0.414511\n",
      "[420]\tvalid_0's binary_logloss: 0.406384\tvalid_1's binary_logloss: 0.414498\n",
      "[430]\tvalid_0's binary_logloss: 0.406157\tvalid_1's binary_logloss: 0.414486\n",
      "[440]\tvalid_0's binary_logloss: 0.405941\tvalid_1's binary_logloss: 0.41448\n",
      "[450]\tvalid_0's binary_logloss: 0.405728\tvalid_1's binary_logloss: 0.414475\n",
      "[460]\tvalid_0's binary_logloss: 0.405519\tvalid_1's binary_logloss: 0.414467\n",
      "[470]\tvalid_0's binary_logloss: 0.405289\tvalid_1's binary_logloss: 0.414456\n",
      "[480]\tvalid_0's binary_logloss: 0.405067\tvalid_1's binary_logloss: 0.414451\n",
      "[490]\tvalid_0's binary_logloss: 0.404848\tvalid_1's binary_logloss: 0.414436\n",
      "[500]\tvalid_0's binary_logloss: 0.404633\tvalid_1's binary_logloss: 0.414435\n",
      "[510]\tvalid_0's binary_logloss: 0.404419\tvalid_1's binary_logloss: 0.414429\n",
      "[520]\tvalid_0's binary_logloss: 0.404201\tvalid_1's binary_logloss: 0.414421\n",
      "[530]\tvalid_0's binary_logloss: 0.404\tvalid_1's binary_logloss: 0.414417\n",
      "[540]\tvalid_0's binary_logloss: 0.403794\tvalid_1's binary_logloss: 0.414414\n",
      "[550]\tvalid_0's binary_logloss: 0.403597\tvalid_1's binary_logloss: 0.414407\n",
      "[560]\tvalid_0's binary_logloss: 0.40338\tvalid_1's binary_logloss: 0.414415\n",
      "[570]\tvalid_0's binary_logloss: 0.403165\tvalid_1's binary_logloss: 0.41441\n",
      "[580]\tvalid_0's binary_logloss: 0.402964\tvalid_1's binary_logloss: 0.41441\n",
      "[590]\tvalid_0's binary_logloss: 0.402764\tvalid_1's binary_logloss: 0.414415\n",
      "[600]\tvalid_0's binary_logloss: 0.402556\tvalid_1's binary_logloss: 0.414418\n",
      "[610]\tvalid_0's binary_logloss: 0.402354\tvalid_1's binary_logloss: 0.414409\n",
      "[620]\tvalid_0's binary_logloss: 0.40215\tvalid_1's binary_logloss: 0.414396\n",
      "[630]\tvalid_0's binary_logloss: 0.401947\tvalid_1's binary_logloss: 0.414386\n",
      "[640]\tvalid_0's binary_logloss: 0.401745\tvalid_1's binary_logloss: 0.414389\n",
      "[650]\tvalid_0's binary_logloss: 0.401535\tvalid_1's binary_logloss: 0.414376\n",
      "[660]\tvalid_0's binary_logloss: 0.401343\tvalid_1's binary_logloss: 0.414374\n",
      "[670]\tvalid_0's binary_logloss: 0.401138\tvalid_1's binary_logloss: 0.414383\n",
      "[680]\tvalid_0's binary_logloss: 0.40094\tvalid_1's binary_logloss: 0.414363\n",
      "[690]\tvalid_0's binary_logloss: 0.400733\tvalid_1's binary_logloss: 0.414371\n",
      "[700]\tvalid_0's binary_logloss: 0.400524\tvalid_1's binary_logloss: 0.414386\n",
      "[710]\tvalid_0's binary_logloss: 0.400322\tvalid_1's binary_logloss: 0.41439\n",
      "[720]\tvalid_0's binary_logloss: 0.400123\tvalid_1's binary_logloss: 0.414384\n",
      "[730]\tvalid_0's binary_logloss: 0.399932\tvalid_1's binary_logloss: 0.41439\n",
      "[740]\tvalid_0's binary_logloss: 0.399735\tvalid_1's binary_logloss: 0.414388\n",
      "[750]\tvalid_0's binary_logloss: 0.399546\tvalid_1's binary_logloss: 0.414393\n",
      "[760]\tvalid_0's binary_logloss: 0.399351\tvalid_1's binary_logloss: 0.414402\n",
      "[770]\tvalid_0's binary_logloss: 0.399154\tvalid_1's binary_logloss: 0.414404\n",
      "[780]\tvalid_0's binary_logloss: 0.398968\tvalid_1's binary_logloss: 0.4144\n",
      "[790]\tvalid_0's binary_logloss: 0.398789\tvalid_1's binary_logloss: 0.414393\n",
      "[800]\tvalid_0's binary_logloss: 0.3986\tvalid_1's binary_logloss: 0.414393\n",
      "[810]\tvalid_0's binary_logloss: 0.398411\tvalid_1's binary_logloss: 0.414388\n",
      "[820]\tvalid_0's binary_logloss: 0.398216\tvalid_1's binary_logloss: 0.414382\n",
      "[830]\tvalid_0's binary_logloss: 0.39802\tvalid_1's binary_logloss: 0.414382\n",
      "[840]\tvalid_0's binary_logloss: 0.39782\tvalid_1's binary_logloss: 0.414389\n",
      "[850]\tvalid_0's binary_logloss: 0.397637\tvalid_1's binary_logloss: 0.414381\n",
      "[860]\tvalid_0's binary_logloss: 0.397451\tvalid_1's binary_logloss: 0.41438\n",
      "[870]\tvalid_0's binary_logloss: 0.397257\tvalid_1's binary_logloss: 0.414383\n",
      "[880]\tvalid_0's binary_logloss: 0.397061\tvalid_1's binary_logloss: 0.414394\n",
      "Early stopping, best iteration is:\n",
      "[683]\tvalid_0's binary_logloss: 0.400884\tvalid_1's binary_logloss: 0.414362\n",
      "[0.4143621146134288]\n"
     ]
    },
    {
     "name": "stderr",
     "output_type": "stream",
     "text": [
      "E:\\python2\\lib\\site-packages\\ipykernel_launcher.py:9: SettingWithCopyWarning: \n",
      "A value is trying to be set on a copy of a slice from a DataFrame.\n",
      "Try using .loc[row_indexer,col_indexer] = value instead\n",
      "\n",
      "See the caveats in the documentation: https://pandas.pydata.org/pandas-docs/stable/user_guide/indexing.html#returning-a-view-versus-a-copy\n",
      "  if __name__ == '__main__':\n"
     ]
    },
    {
     "name": "stdout",
     "output_type": "stream",
     "text": [
      "Training until validation scores don't improve for 200 rounds\n",
      "[10]\tvalid_0's binary_logloss: 0.464231\tvalid_1's binary_logloss: 0.464293\n",
      "[20]\tvalid_0's binary_logloss: 0.445611\tvalid_1's binary_logloss: 0.445855\n",
      "[30]\tvalid_0's binary_logloss: 0.434524\tvalid_1's binary_logloss: 0.434916\n",
      "[40]\tvalid_0's binary_logloss: 0.427767\tvalid_1's binary_logloss: 0.428308\n",
      "[50]\tvalid_0's binary_logloss: 0.423472\tvalid_1's binary_logloss: 0.424156\n",
      "[60]\tvalid_0's binary_logloss: 0.420671\tvalid_1's binary_logloss: 0.421513\n",
      "[70]\tvalid_0's binary_logloss: 0.418804\tvalid_1's binary_logloss: 0.419814\n",
      "[80]\tvalid_0's binary_logloss: 0.417489\tvalid_1's binary_logloss: 0.418669\n",
      "[90]\tvalid_0's binary_logloss: 0.416515\tvalid_1's binary_logloss: 0.417853\n",
      "[100]\tvalid_0's binary_logloss: 0.415772\tvalid_1's binary_logloss: 0.417281\n",
      "[110]\tvalid_0's binary_logloss: 0.415176\tvalid_1's binary_logloss: 0.416893\n",
      "[120]\tvalid_0's binary_logloss: 0.414668\tvalid_1's binary_logloss: 0.416576\n",
      "[130]\tvalid_0's binary_logloss: 0.414208\tvalid_1's binary_logloss: 0.416333\n",
      "[140]\tvalid_0's binary_logloss: 0.413808\tvalid_1's binary_logloss: 0.41613\n",
      "[150]\tvalid_0's binary_logloss: 0.413432\tvalid_1's binary_logloss: 0.415974\n",
      "[160]\tvalid_0's binary_logloss: 0.41308\tvalid_1's binary_logloss: 0.415854\n",
      "[170]\tvalid_0's binary_logloss: 0.412748\tvalid_1's binary_logloss: 0.415766\n",
      "[180]\tvalid_0's binary_logloss: 0.412421\tvalid_1's binary_logloss: 0.415663\n",
      "[190]\tvalid_0's binary_logloss: 0.412097\tvalid_1's binary_logloss: 0.415567\n",
      "[200]\tvalid_0's binary_logloss: 0.411807\tvalid_1's binary_logloss: 0.415509\n",
      "[210]\tvalid_0's binary_logloss: 0.411511\tvalid_1's binary_logloss: 0.415429\n",
      "[220]\tvalid_0's binary_logloss: 0.411228\tvalid_1's binary_logloss: 0.415373\n",
      "[230]\tvalid_0's binary_logloss: 0.410945\tvalid_1's binary_logloss: 0.415318\n",
      "[240]\tvalid_0's binary_logloss: 0.410661\tvalid_1's binary_logloss: 0.415254\n",
      "[250]\tvalid_0's binary_logloss: 0.41039\tvalid_1's binary_logloss: 0.415197\n",
      "[260]\tvalid_0's binary_logloss: 0.410132\tvalid_1's binary_logloss: 0.415164\n",
      "[270]\tvalid_0's binary_logloss: 0.409875\tvalid_1's binary_logloss: 0.415132\n",
      "[280]\tvalid_0's binary_logloss: 0.40962\tvalid_1's binary_logloss: 0.415087\n",
      "[290]\tvalid_0's binary_logloss: 0.409369\tvalid_1's binary_logloss: 0.415068\n",
      "[300]\tvalid_0's binary_logloss: 0.409125\tvalid_1's binary_logloss: 0.415047\n",
      "[310]\tvalid_0's binary_logloss: 0.408872\tvalid_1's binary_logloss: 0.415029\n",
      "[320]\tvalid_0's binary_logloss: 0.408635\tvalid_1's binary_logloss: 0.415016\n",
      "[330]\tvalid_0's binary_logloss: 0.408397\tvalid_1's binary_logloss: 0.415\n",
      "[340]\tvalid_0's binary_logloss: 0.408163\tvalid_1's binary_logloss: 0.414972\n",
      "[350]\tvalid_0's binary_logloss: 0.407936\tvalid_1's binary_logloss: 0.414965\n",
      "[360]\tvalid_0's binary_logloss: 0.407702\tvalid_1's binary_logloss: 0.414966\n",
      "[370]\tvalid_0's binary_logloss: 0.40746\tvalid_1's binary_logloss: 0.414941\n",
      "[380]\tvalid_0's binary_logloss: 0.407233\tvalid_1's binary_logloss: 0.414933\n",
      "[390]\tvalid_0's binary_logloss: 0.407009\tvalid_1's binary_logloss: 0.41493\n",
      "[400]\tvalid_0's binary_logloss: 0.40679\tvalid_1's binary_logloss: 0.414911\n",
      "[410]\tvalid_0's binary_logloss: 0.406571\tvalid_1's binary_logloss: 0.414903\n",
      "[420]\tvalid_0's binary_logloss: 0.406351\tvalid_1's binary_logloss: 0.414893\n",
      "[430]\tvalid_0's binary_logloss: 0.406138\tvalid_1's binary_logloss: 0.414888\n",
      "[440]\tvalid_0's binary_logloss: 0.405916\tvalid_1's binary_logloss: 0.414871\n",
      "[450]\tvalid_0's binary_logloss: 0.405701\tvalid_1's binary_logloss: 0.414858\n",
      "[460]\tvalid_0's binary_logloss: 0.405487\tvalid_1's binary_logloss: 0.414853\n",
      "[470]\tvalid_0's binary_logloss: 0.40527\tvalid_1's binary_logloss: 0.414848\n",
      "[480]\tvalid_0's binary_logloss: 0.405055\tvalid_1's binary_logloss: 0.414838\n",
      "[490]\tvalid_0's binary_logloss: 0.404836\tvalid_1's binary_logloss: 0.414828\n",
      "[500]\tvalid_0's binary_logloss: 0.40462\tvalid_1's binary_logloss: 0.414813\n",
      "[510]\tvalid_0's binary_logloss: 0.404404\tvalid_1's binary_logloss: 0.414806\n",
      "[520]\tvalid_0's binary_logloss: 0.404202\tvalid_1's binary_logloss: 0.414798\n",
      "[530]\tvalid_0's binary_logloss: 0.403989\tvalid_1's binary_logloss: 0.414796\n",
      "[540]\tvalid_0's binary_logloss: 0.40379\tvalid_1's binary_logloss: 0.414797\n",
      "[550]\tvalid_0's binary_logloss: 0.403581\tvalid_1's binary_logloss: 0.414792\n",
      "[560]\tvalid_0's binary_logloss: 0.403379\tvalid_1's binary_logloss: 0.414783\n",
      "[570]\tvalid_0's binary_logloss: 0.403169\tvalid_1's binary_logloss: 0.414771\n",
      "[580]\tvalid_0's binary_logloss: 0.402965\tvalid_1's binary_logloss: 0.414776\n",
      "[590]\tvalid_0's binary_logloss: 0.402763\tvalid_1's binary_logloss: 0.414768\n",
      "[600]\tvalid_0's binary_logloss: 0.402558\tvalid_1's binary_logloss: 0.414773\n",
      "[610]\tvalid_0's binary_logloss: 0.402346\tvalid_1's binary_logloss: 0.414768\n",
      "[620]\tvalid_0's binary_logloss: 0.40214\tvalid_1's binary_logloss: 0.414772\n",
      "[630]\tvalid_0's binary_logloss: 0.401936\tvalid_1's binary_logloss: 0.414768\n",
      "[640]\tvalid_0's binary_logloss: 0.401742\tvalid_1's binary_logloss: 0.414761\n",
      "[650]\tvalid_0's binary_logloss: 0.40154\tvalid_1's binary_logloss: 0.414754\n",
      "[660]\tvalid_0's binary_logloss: 0.401337\tvalid_1's binary_logloss: 0.414751\n",
      "[670]\tvalid_0's binary_logloss: 0.401127\tvalid_1's binary_logloss: 0.414746\n",
      "[680]\tvalid_0's binary_logloss: 0.400926\tvalid_1's binary_logloss: 0.414732\n",
      "[690]\tvalid_0's binary_logloss: 0.400718\tvalid_1's binary_logloss: 0.414726\n",
      "[700]\tvalid_0's binary_logloss: 0.400519\tvalid_1's binary_logloss: 0.414727\n",
      "[710]\tvalid_0's binary_logloss: 0.400311\tvalid_1's binary_logloss: 0.414728\n",
      "[720]\tvalid_0's binary_logloss: 0.400104\tvalid_1's binary_logloss: 0.414718\n",
      "[730]\tvalid_0's binary_logloss: 0.399917\tvalid_1's binary_logloss: 0.414727\n",
      "[740]\tvalid_0's binary_logloss: 0.399734\tvalid_1's binary_logloss: 0.414724\n",
      "[750]\tvalid_0's binary_logloss: 0.399545\tvalid_1's binary_logloss: 0.414731\n",
      "[760]\tvalid_0's binary_logloss: 0.399355\tvalid_1's binary_logloss: 0.414738\n",
      "[770]\tvalid_0's binary_logloss: 0.399159\tvalid_1's binary_logloss: 0.414736\n",
      "[780]\tvalid_0's binary_logloss: 0.39896\tvalid_1's binary_logloss: 0.414739\n",
      "[790]\tvalid_0's binary_logloss: 0.398762\tvalid_1's binary_logloss: 0.414731\n",
      "[800]\tvalid_0's binary_logloss: 0.398578\tvalid_1's binary_logloss: 0.414733\n",
      "[810]\tvalid_0's binary_logloss: 0.398386\tvalid_1's binary_logloss: 0.414736\n",
      "[820]\tvalid_0's binary_logloss: 0.398192\tvalid_1's binary_logloss: 0.414738\n",
      "[830]\tvalid_0's binary_logloss: 0.398007\tvalid_1's binary_logloss: 0.41474\n",
      "[840]\tvalid_0's binary_logloss: 0.39782\tvalid_1's binary_logloss: 0.414748\n",
      "[850]\tvalid_0's binary_logloss: 0.397635\tvalid_1's binary_logloss: 0.414747\n",
      "[860]\tvalid_0's binary_logloss: 0.397451\tvalid_1's binary_logloss: 0.41475\n",
      "[870]\tvalid_0's binary_logloss: 0.39725\tvalid_1's binary_logloss: 0.414759\n",
      "[880]\tvalid_0's binary_logloss: 0.397059\tvalid_1's binary_logloss: 0.414754\n",
      "[890]\tvalid_0's binary_logloss: 0.396866\tvalid_1's binary_logloss: 0.414762\n",
      "[900]\tvalid_0's binary_logloss: 0.396687\tvalid_1's binary_logloss: 0.414769\n",
      "[910]\tvalid_0's binary_logloss: 0.396497\tvalid_1's binary_logloss: 0.414768\n",
      "Early stopping, best iteration is:\n",
      "[719]\tvalid_0's binary_logloss: 0.400128\tvalid_1's binary_logloss: 0.414717\n",
      "[0.4143621146134288, 0.41471730267532814]\n"
     ]
    },
    {
     "name": "stderr",
     "output_type": "stream",
     "text": [
      "E:\\python2\\lib\\site-packages\\ipykernel_launcher.py:9: SettingWithCopyWarning: \n",
      "A value is trying to be set on a copy of a slice from a DataFrame.\n",
      "Try using .loc[row_indexer,col_indexer] = value instead\n",
      "\n",
      "See the caveats in the documentation: https://pandas.pydata.org/pandas-docs/stable/user_guide/indexing.html#returning-a-view-versus-a-copy\n",
      "  if __name__ == '__main__':\n"
     ]
    },
    {
     "name": "stdout",
     "output_type": "stream",
     "text": [
      "Training until validation scores don't improve for 200 rounds\n",
      "[10]\tvalid_0's binary_logloss: 0.464181\tvalid_1's binary_logloss: 0.464434\n",
      "[20]\tvalid_0's binary_logloss: 0.445495\tvalid_1's binary_logloss: 0.445949\n",
      "[30]\tvalid_0's binary_logloss: 0.434431\tvalid_1's binary_logloss: 0.435068\n",
      "[40]\tvalid_0's binary_logloss: 0.427673\tvalid_1's binary_logloss: 0.428498\n",
      "[50]\tvalid_0's binary_logloss: 0.423393\tvalid_1's binary_logloss: 0.424385\n",
      "[60]\tvalid_0's binary_logloss: 0.420603\tvalid_1's binary_logloss: 0.4218\n",
      "[70]\tvalid_0's binary_logloss: 0.418684\tvalid_1's binary_logloss: 0.420078\n",
      "[80]\tvalid_0's binary_logloss: 0.417355\tvalid_1's binary_logloss: 0.418951\n",
      "[90]\tvalid_0's binary_logloss: 0.416392\tvalid_1's binary_logloss: 0.418159\n",
      "[100]\tvalid_0's binary_logloss: 0.415661\tvalid_1's binary_logloss: 0.417626\n",
      "[110]\tvalid_0's binary_logloss: 0.415053\tvalid_1's binary_logloss: 0.417205\n",
      "[120]\tvalid_0's binary_logloss: 0.41454\tvalid_1's binary_logloss: 0.416869\n",
      "[130]\tvalid_0's binary_logloss: 0.414096\tvalid_1's binary_logloss: 0.416631\n",
      "[140]\tvalid_0's binary_logloss: 0.41369\tvalid_1's binary_logloss: 0.416443\n",
      "[150]\tvalid_0's binary_logloss: 0.413308\tvalid_1's binary_logloss: 0.416275\n",
      "[160]\tvalid_0's binary_logloss: 0.41296\tvalid_1's binary_logloss: 0.416167\n",
      "[170]\tvalid_0's binary_logloss: 0.412623\tvalid_1's binary_logloss: 0.416066\n",
      "[180]\tvalid_0's binary_logloss: 0.412308\tvalid_1's binary_logloss: 0.415975\n",
      "[190]\tvalid_0's binary_logloss: 0.411992\tvalid_1's binary_logloss: 0.41589\n",
      "[200]\tvalid_0's binary_logloss: 0.4117\tvalid_1's binary_logloss: 0.415812\n",
      "[210]\tvalid_0's binary_logloss: 0.411406\tvalid_1's binary_logloss: 0.415765\n",
      "[220]\tvalid_0's binary_logloss: 0.411109\tvalid_1's binary_logloss: 0.415688\n",
      "[230]\tvalid_0's binary_logloss: 0.410829\tvalid_1's binary_logloss: 0.415639\n",
      "[240]\tvalid_0's binary_logloss: 0.410565\tvalid_1's binary_logloss: 0.415591\n",
      "[250]\tvalid_0's binary_logloss: 0.410301\tvalid_1's binary_logloss: 0.415538\n",
      "[260]\tvalid_0's binary_logloss: 0.410049\tvalid_1's binary_logloss: 0.415512\n",
      "[270]\tvalid_0's binary_logloss: 0.409793\tvalid_1's binary_logloss: 0.415476\n",
      "[280]\tvalid_0's binary_logloss: 0.409551\tvalid_1's binary_logloss: 0.415439\n",
      "[290]\tvalid_0's binary_logloss: 0.409294\tvalid_1's binary_logloss: 0.4154\n",
      "[300]\tvalid_0's binary_logloss: 0.409038\tvalid_1's binary_logloss: 0.415385\n",
      "[310]\tvalid_0's binary_logloss: 0.408783\tvalid_1's binary_logloss: 0.415351\n",
      "[320]\tvalid_0's binary_logloss: 0.408541\tvalid_1's binary_logloss: 0.415325\n",
      "[330]\tvalid_0's binary_logloss: 0.408304\tvalid_1's binary_logloss: 0.41531\n",
      "[340]\tvalid_0's binary_logloss: 0.408062\tvalid_1's binary_logloss: 0.415292\n",
      "[350]\tvalid_0's binary_logloss: 0.407829\tvalid_1's binary_logloss: 0.415277\n",
      "[360]\tvalid_0's binary_logloss: 0.407606\tvalid_1's binary_logloss: 0.415261\n",
      "[370]\tvalid_0's binary_logloss: 0.407382\tvalid_1's binary_logloss: 0.415244\n",
      "[380]\tvalid_0's binary_logloss: 0.407146\tvalid_1's binary_logloss: 0.415234\n",
      "[390]\tvalid_0's binary_logloss: 0.406911\tvalid_1's binary_logloss: 0.415207\n",
      "[400]\tvalid_0's binary_logloss: 0.406692\tvalid_1's binary_logloss: 0.415192\n",
      "[410]\tvalid_0's binary_logloss: 0.406462\tvalid_1's binary_logloss: 0.415176\n",
      "[420]\tvalid_0's binary_logloss: 0.406249\tvalid_1's binary_logloss: 0.415173\n",
      "[430]\tvalid_0's binary_logloss: 0.406027\tvalid_1's binary_logloss: 0.415171\n",
      "[440]\tvalid_0's binary_logloss: 0.405803\tvalid_1's binary_logloss: 0.415154\n",
      "[450]\tvalid_0's binary_logloss: 0.405583\tvalid_1's binary_logloss: 0.415153\n",
      "[460]\tvalid_0's binary_logloss: 0.405365\tvalid_1's binary_logloss: 0.415156\n",
      "[470]\tvalid_0's binary_logloss: 0.405161\tvalid_1's binary_logloss: 0.415149\n",
      "[480]\tvalid_0's binary_logloss: 0.404941\tvalid_1's binary_logloss: 0.415136\n",
      "[490]\tvalid_0's binary_logloss: 0.404721\tvalid_1's binary_logloss: 0.415128\n",
      "[500]\tvalid_0's binary_logloss: 0.404513\tvalid_1's binary_logloss: 0.415119\n",
      "[510]\tvalid_0's binary_logloss: 0.404296\tvalid_1's binary_logloss: 0.415107\n",
      "[520]\tvalid_0's binary_logloss: 0.404082\tvalid_1's binary_logloss: 0.415104\n",
      "[530]\tvalid_0's binary_logloss: 0.403866\tvalid_1's binary_logloss: 0.415093\n",
      "[540]\tvalid_0's binary_logloss: 0.403649\tvalid_1's binary_logloss: 0.415102\n",
      "[550]\tvalid_0's binary_logloss: 0.40344\tvalid_1's binary_logloss: 0.415094\n",
      "[560]\tvalid_0's binary_logloss: 0.403233\tvalid_1's binary_logloss: 0.415086\n",
      "[570]\tvalid_0's binary_logloss: 0.403022\tvalid_1's binary_logloss: 0.41508\n",
      "[580]\tvalid_0's binary_logloss: 0.402819\tvalid_1's binary_logloss: 0.415091\n",
      "[590]\tvalid_0's binary_logloss: 0.402605\tvalid_1's binary_logloss: 0.415081\n",
      "[600]\tvalid_0's binary_logloss: 0.402399\tvalid_1's binary_logloss: 0.415078\n",
      "[610]\tvalid_0's binary_logloss: 0.402196\tvalid_1's binary_logloss: 0.415078\n",
      "[620]\tvalid_0's binary_logloss: 0.401995\tvalid_1's binary_logloss: 0.415071\n",
      "[630]\tvalid_0's binary_logloss: 0.401789\tvalid_1's binary_logloss: 0.41507\n",
      "[640]\tvalid_0's binary_logloss: 0.401592\tvalid_1's binary_logloss: 0.415074\n",
      "[650]\tvalid_0's binary_logloss: 0.401393\tvalid_1's binary_logloss: 0.415088\n",
      "[660]\tvalid_0's binary_logloss: 0.401186\tvalid_1's binary_logloss: 0.415077\n",
      "[670]\tvalid_0's binary_logloss: 0.40098\tvalid_1's binary_logloss: 0.415076\n",
      "[680]\tvalid_0's binary_logloss: 0.400782\tvalid_1's binary_logloss: 0.415073\n",
      "[690]\tvalid_0's binary_logloss: 0.400578\tvalid_1's binary_logloss: 0.415065\n",
      "[700]\tvalid_0's binary_logloss: 0.400383\tvalid_1's binary_logloss: 0.415065\n",
      "[710]\tvalid_0's binary_logloss: 0.400188\tvalid_1's binary_logloss: 0.415063\n",
      "[720]\tvalid_0's binary_logloss: 0.399986\tvalid_1's binary_logloss: 0.415052\n",
      "[730]\tvalid_0's binary_logloss: 0.399783\tvalid_1's binary_logloss: 0.415052\n",
      "[740]\tvalid_0's binary_logloss: 0.399596\tvalid_1's binary_logloss: 0.415051\n",
      "[750]\tvalid_0's binary_logloss: 0.399402\tvalid_1's binary_logloss: 0.415057\n",
      "[760]\tvalid_0's binary_logloss: 0.399201\tvalid_1's binary_logloss: 0.415052\n",
      "[770]\tvalid_0's binary_logloss: 0.398993\tvalid_1's binary_logloss: 0.415044\n",
      "[780]\tvalid_0's binary_logloss: 0.398796\tvalid_1's binary_logloss: 0.415043\n",
      "[790]\tvalid_0's binary_logloss: 0.398591\tvalid_1's binary_logloss: 0.415046\n",
      "[800]\tvalid_0's binary_logloss: 0.398412\tvalid_1's binary_logloss: 0.415051\n",
      "[810]\tvalid_0's binary_logloss: 0.398219\tvalid_1's binary_logloss: 0.415061\n",
      "[820]\tvalid_0's binary_logloss: 0.39803\tvalid_1's binary_logloss: 0.415052\n",
      "[830]\tvalid_0's binary_logloss: 0.397844\tvalid_1's binary_logloss: 0.415047\n",
      "[840]\tvalid_0's binary_logloss: 0.397663\tvalid_1's binary_logloss: 0.415046\n",
      "[850]\tvalid_0's binary_logloss: 0.397485\tvalid_1's binary_logloss: 0.415055\n",
      "[860]\tvalid_0's binary_logloss: 0.397301\tvalid_1's binary_logloss: 0.415059\n",
      "[870]\tvalid_0's binary_logloss: 0.397111\tvalid_1's binary_logloss: 0.415058\n",
      "[880]\tvalid_0's binary_logloss: 0.396926\tvalid_1's binary_logloss: 0.41506\n",
      "[890]\tvalid_0's binary_logloss: 0.396733\tvalid_1's binary_logloss: 0.415065\n",
      "[900]\tvalid_0's binary_logloss: 0.396533\tvalid_1's binary_logloss: 0.415069\n",
      "[910]\tvalid_0's binary_logloss: 0.396344\tvalid_1's binary_logloss: 0.415069\n",
      "[920]\tvalid_0's binary_logloss: 0.396154\tvalid_1's binary_logloss: 0.41506\n",
      "[930]\tvalid_0's binary_logloss: 0.395966\tvalid_1's binary_logloss: 0.415069\n",
      "[940]\tvalid_0's binary_logloss: 0.395779\tvalid_1's binary_logloss: 0.415065\n",
      "[950]\tvalid_0's binary_logloss: 0.395592\tvalid_1's binary_logloss: 0.415064\n",
      "[960]\tvalid_0's binary_logloss: 0.395406\tvalid_1's binary_logloss: 0.415065\n",
      "[970]\tvalid_0's binary_logloss: 0.395221\tvalid_1's binary_logloss: 0.415061\n",
      "Early stopping, best iteration is:\n",
      "[774]\tvalid_0's binary_logloss: 0.398907\tvalid_1's binary_logloss: 0.415039\n",
      "[0.4143621146134288, 0.41471730267532814, 0.4150385168172594]\n"
     ]
    },
    {
     "name": "stderr",
     "output_type": "stream",
     "text": [
      "E:\\python2\\lib\\site-packages\\ipykernel_launcher.py:9: SettingWithCopyWarning: \n",
      "A value is trying to be set on a copy of a slice from a DataFrame.\n",
      "Try using .loc[row_indexer,col_indexer] = value instead\n",
      "\n",
      "See the caveats in the documentation: https://pandas.pydata.org/pandas-docs/stable/user_guide/indexing.html#returning-a-view-versus-a-copy\n",
      "  if __name__ == '__main__':\n"
     ]
    },
    {
     "name": "stdout",
     "output_type": "stream",
     "text": [
      "Training until validation scores don't improve for 200 rounds\n",
      "[10]\tvalid_0's binary_logloss: 0.464276\tvalid_1's binary_logloss: 0.464344\n",
      "[20]\tvalid_0's binary_logloss: 0.445646\tvalid_1's binary_logloss: 0.445742\n",
      "[30]\tvalid_0's binary_logloss: 0.434606\tvalid_1's binary_logloss: 0.434768\n",
      "[40]\tvalid_0's binary_logloss: 0.427809\tvalid_1's binary_logloss: 0.428046\n",
      "[50]\tvalid_0's binary_logloss: 0.423504\tvalid_1's binary_logloss: 0.423865\n",
      "[60]\tvalid_0's binary_logloss: 0.420692\tvalid_1's binary_logloss: 0.421202\n",
      "[70]\tvalid_0's binary_logloss: 0.418811\tvalid_1's binary_logloss: 0.419478\n",
      "[80]\tvalid_0's binary_logloss: 0.417485\tvalid_1's binary_logloss: 0.418342\n",
      "[90]\tvalid_0's binary_logloss: 0.416539\tvalid_1's binary_logloss: 0.417598\n",
      "[100]\tvalid_0's binary_logloss: 0.41581\tvalid_1's binary_logloss: 0.417083\n",
      "[110]\tvalid_0's binary_logloss: 0.41521\tvalid_1's binary_logloss: 0.416678\n",
      "[120]\tvalid_0's binary_logloss: 0.414699\tvalid_1's binary_logloss: 0.416366\n",
      "[130]\tvalid_0's binary_logloss: 0.414236\tvalid_1's binary_logloss: 0.416133\n",
      "[140]\tvalid_0's binary_logloss: 0.413826\tvalid_1's binary_logloss: 0.415969\n",
      "[150]\tvalid_0's binary_logloss: 0.413455\tvalid_1's binary_logloss: 0.415824\n",
      "[160]\tvalid_0's binary_logloss: 0.413095\tvalid_1's binary_logloss: 0.415706\n",
      "[170]\tvalid_0's binary_logloss: 0.412753\tvalid_1's binary_logloss: 0.415598\n",
      "[180]\tvalid_0's binary_logloss: 0.412425\tvalid_1's binary_logloss: 0.415487\n",
      "[190]\tvalid_0's binary_logloss: 0.412109\tvalid_1's binary_logloss: 0.415411\n",
      "[200]\tvalid_0's binary_logloss: 0.411802\tvalid_1's binary_logloss: 0.41534\n",
      "[210]\tvalid_0's binary_logloss: 0.411504\tvalid_1's binary_logloss: 0.415262\n",
      "[220]\tvalid_0's binary_logloss: 0.41123\tvalid_1's binary_logloss: 0.41521\n",
      "[230]\tvalid_0's binary_logloss: 0.410955\tvalid_1's binary_logloss: 0.415171\n",
      "[240]\tvalid_0's binary_logloss: 0.41068\tvalid_1's binary_logloss: 0.415124\n",
      "[250]\tvalid_0's binary_logloss: 0.410418\tvalid_1's binary_logloss: 0.415097\n",
      "[260]\tvalid_0's binary_logloss: 0.410156\tvalid_1's binary_logloss: 0.415066\n",
      "[270]\tvalid_0's binary_logloss: 0.409903\tvalid_1's binary_logloss: 0.415036\n",
      "[280]\tvalid_0's binary_logloss: 0.409643\tvalid_1's binary_logloss: 0.415007\n",
      "[290]\tvalid_0's binary_logloss: 0.409401\tvalid_1's binary_logloss: 0.414985\n",
      "[300]\tvalid_0's binary_logloss: 0.409154\tvalid_1's binary_logloss: 0.414965\n",
      "[310]\tvalid_0's binary_logloss: 0.408906\tvalid_1's binary_logloss: 0.414933\n",
      "[320]\tvalid_0's binary_logloss: 0.408653\tvalid_1's binary_logloss: 0.414907\n",
      "[330]\tvalid_0's binary_logloss: 0.408416\tvalid_1's binary_logloss: 0.414871\n",
      "[340]\tvalid_0's binary_logloss: 0.408181\tvalid_1's binary_logloss: 0.414848\n",
      "[350]\tvalid_0's binary_logloss: 0.407939\tvalid_1's binary_logloss: 0.414822\n",
      "[360]\tvalid_0's binary_logloss: 0.407712\tvalid_1's binary_logloss: 0.41482\n",
      "[370]\tvalid_0's binary_logloss: 0.407479\tvalid_1's binary_logloss: 0.41481\n",
      "[380]\tvalid_0's binary_logloss: 0.407248\tvalid_1's binary_logloss: 0.414798\n",
      "[390]\tvalid_0's binary_logloss: 0.407014\tvalid_1's binary_logloss: 0.414796\n",
      "[400]\tvalid_0's binary_logloss: 0.406791\tvalid_1's binary_logloss: 0.414789\n",
      "[410]\tvalid_0's binary_logloss: 0.406564\tvalid_1's binary_logloss: 0.414773\n",
      "[420]\tvalid_0's binary_logloss: 0.406336\tvalid_1's binary_logloss: 0.41477\n",
      "[430]\tvalid_0's binary_logloss: 0.406122\tvalid_1's binary_logloss: 0.414765\n",
      "[440]\tvalid_0's binary_logloss: 0.405907\tvalid_1's binary_logloss: 0.414753\n",
      "[450]\tvalid_0's binary_logloss: 0.405689\tvalid_1's binary_logloss: 0.414739\n",
      "[460]\tvalid_0's binary_logloss: 0.40547\tvalid_1's binary_logloss: 0.414729\n",
      "[470]\tvalid_0's binary_logloss: 0.405249\tvalid_1's binary_logloss: 0.414721\n",
      "[480]\tvalid_0's binary_logloss: 0.405031\tvalid_1's binary_logloss: 0.41472\n",
      "[490]\tvalid_0's binary_logloss: 0.404815\tvalid_1's binary_logloss: 0.414713\n",
      "[500]\tvalid_0's binary_logloss: 0.404611\tvalid_1's binary_logloss: 0.414704\n",
      "[510]\tvalid_0's binary_logloss: 0.40439\tvalid_1's binary_logloss: 0.414697\n",
      "[520]\tvalid_0's binary_logloss: 0.404183\tvalid_1's binary_logloss: 0.414681\n",
      "[530]\tvalid_0's binary_logloss: 0.403973\tvalid_1's binary_logloss: 0.414674\n",
      "[540]\tvalid_0's binary_logloss: 0.403765\tvalid_1's binary_logloss: 0.414665\n",
      "[550]\tvalid_0's binary_logloss: 0.403551\tvalid_1's binary_logloss: 0.414635\n",
      "[560]\tvalid_0's binary_logloss: 0.403345\tvalid_1's binary_logloss: 0.414632\n",
      "[570]\tvalid_0's binary_logloss: 0.403143\tvalid_1's binary_logloss: 0.414635\n",
      "[580]\tvalid_0's binary_logloss: 0.402936\tvalid_1's binary_logloss: 0.414634\n",
      "[590]\tvalid_0's binary_logloss: 0.402728\tvalid_1's binary_logloss: 0.414626\n",
      "[600]\tvalid_0's binary_logloss: 0.402518\tvalid_1's binary_logloss: 0.414621\n",
      "[610]\tvalid_0's binary_logloss: 0.402297\tvalid_1's binary_logloss: 0.414605\n",
      "[620]\tvalid_0's binary_logloss: 0.402094\tvalid_1's binary_logloss: 0.4146\n",
      "[630]\tvalid_0's binary_logloss: 0.401896\tvalid_1's binary_logloss: 0.414585\n",
      "[640]\tvalid_0's binary_logloss: 0.401705\tvalid_1's binary_logloss: 0.414591\n",
      "[650]\tvalid_0's binary_logloss: 0.401502\tvalid_1's binary_logloss: 0.414593\n",
      "[660]\tvalid_0's binary_logloss: 0.401305\tvalid_1's binary_logloss: 0.41459\n",
      "[670]\tvalid_0's binary_logloss: 0.401098\tvalid_1's binary_logloss: 0.414586\n",
      "[680]\tvalid_0's binary_logloss: 0.400899\tvalid_1's binary_logloss: 0.414583\n",
      "[690]\tvalid_0's binary_logloss: 0.400694\tvalid_1's binary_logloss: 0.414588\n",
      "[700]\tvalid_0's binary_logloss: 0.400495\tvalid_1's binary_logloss: 0.414578\n",
      "[710]\tvalid_0's binary_logloss: 0.400294\tvalid_1's binary_logloss: 0.414575\n",
      "[720]\tvalid_0's binary_logloss: 0.400102\tvalid_1's binary_logloss: 0.414588\n",
      "[730]\tvalid_0's binary_logloss: 0.399911\tvalid_1's binary_logloss: 0.414582\n",
      "[740]\tvalid_0's binary_logloss: 0.399717\tvalid_1's binary_logloss: 0.414589\n",
      "[750]\tvalid_0's binary_logloss: 0.399529\tvalid_1's binary_logloss: 0.414601\n",
      "[760]\tvalid_0's binary_logloss: 0.399331\tvalid_1's binary_logloss: 0.414609\n",
      "[770]\tvalid_0's binary_logloss: 0.39915\tvalid_1's binary_logloss: 0.414609\n",
      "[780]\tvalid_0's binary_logloss: 0.398956\tvalid_1's binary_logloss: 0.414615\n",
      "[790]\tvalid_0's binary_logloss: 0.398776\tvalid_1's binary_logloss: 0.414634\n",
      "[800]\tvalid_0's binary_logloss: 0.398598\tvalid_1's binary_logloss: 0.414636\n",
      "[810]\tvalid_0's binary_logloss: 0.398395\tvalid_1's binary_logloss: 0.41463\n",
      "[820]\tvalid_0's binary_logloss: 0.398215\tvalid_1's binary_logloss: 0.414625\n",
      "[830]\tvalid_0's binary_logloss: 0.398025\tvalid_1's binary_logloss: 0.414628\n",
      "[840]\tvalid_0's binary_logloss: 0.397824\tvalid_1's binary_logloss: 0.414633\n",
      "[850]\tvalid_0's binary_logloss: 0.397634\tvalid_1's binary_logloss: 0.41464\n",
      "[860]\tvalid_0's binary_logloss: 0.397427\tvalid_1's binary_logloss: 0.414644\n",
      "[870]\tvalid_0's binary_logloss: 0.397238\tvalid_1's binary_logloss: 0.414642\n",
      "[880]\tvalid_0's binary_logloss: 0.397055\tvalid_1's binary_logloss: 0.414644\n",
      "[890]\tvalid_0's binary_logloss: 0.396867\tvalid_1's binary_logloss: 0.41465\n",
      "[900]\tvalid_0's binary_logloss: 0.396683\tvalid_1's binary_logloss: 0.414649\n",
      "Early stopping, best iteration is:\n",
      "[705]\tvalid_0's binary_logloss: 0.400386\tvalid_1's binary_logloss: 0.414574\n",
      "[0.4143621146134288, 0.41471730267532814, 0.4150385168172594, 0.4145735478925579]\n"
     ]
    },
    {
     "name": "stderr",
     "output_type": "stream",
     "text": [
      "E:\\python2\\lib\\site-packages\\ipykernel_launcher.py:9: SettingWithCopyWarning: \n",
      "A value is trying to be set on a copy of a slice from a DataFrame.\n",
      "Try using .loc[row_indexer,col_indexer] = value instead\n",
      "\n",
      "See the caveats in the documentation: https://pandas.pydata.org/pandas-docs/stable/user_guide/indexing.html#returning-a-view-versus-a-copy\n",
      "  if __name__ == '__main__':\n"
     ]
    },
    {
     "name": "stdout",
     "output_type": "stream",
     "text": [
      "Training until validation scores don't improve for 200 rounds\n",
      "[10]\tvalid_0's binary_logloss: 0.464166\tvalid_1's binary_logloss: 0.464425\n",
      "[20]\tvalid_0's binary_logloss: 0.445522\tvalid_1's binary_logloss: 0.445995\n",
      "[30]\tvalid_0's binary_logloss: 0.434451\tvalid_1's binary_logloss: 0.43514\n",
      "[40]\tvalid_0's binary_logloss: 0.427639\tvalid_1's binary_logloss: 0.428498\n",
      "[50]\tvalid_0's binary_logloss: 0.423388\tvalid_1's binary_logloss: 0.424436\n",
      "[60]\tvalid_0's binary_logloss: 0.420608\tvalid_1's binary_logloss: 0.421833\n",
      "[70]\tvalid_0's binary_logloss: 0.418721\tvalid_1's binary_logloss: 0.420131\n",
      "[80]\tvalid_0's binary_logloss: 0.417385\tvalid_1's binary_logloss: 0.418985\n",
      "[90]\tvalid_0's binary_logloss: 0.416422\tvalid_1's binary_logloss: 0.418202\n",
      "[100]\tvalid_0's binary_logloss: 0.415671\tvalid_1's binary_logloss: 0.417618\n",
      "[110]\tvalid_0's binary_logloss: 0.415065\tvalid_1's binary_logloss: 0.417192\n",
      "[120]\tvalid_0's binary_logloss: 0.414559\tvalid_1's binary_logloss: 0.416888\n",
      "[130]\tvalid_0's binary_logloss: 0.414111\tvalid_1's binary_logloss: 0.416657\n",
      "[140]\tvalid_0's binary_logloss: 0.41369\tvalid_1's binary_logloss: 0.416464\n",
      "[150]\tvalid_0's binary_logloss: 0.413294\tvalid_1's binary_logloss: 0.416293\n",
      "[160]\tvalid_0's binary_logloss: 0.412938\tvalid_1's binary_logloss: 0.416165\n",
      "[170]\tvalid_0's binary_logloss: 0.412596\tvalid_1's binary_logloss: 0.416047\n",
      "[180]\tvalid_0's binary_logloss: 0.412279\tvalid_1's binary_logloss: 0.415947\n",
      "[190]\tvalid_0's binary_logloss: 0.411971\tvalid_1's binary_logloss: 0.41586\n",
      "[200]\tvalid_0's binary_logloss: 0.411672\tvalid_1's binary_logloss: 0.415782\n",
      "[210]\tvalid_0's binary_logloss: 0.411376\tvalid_1's binary_logloss: 0.415717\n",
      "[220]\tvalid_0's binary_logloss: 0.411091\tvalid_1's binary_logloss: 0.415663\n",
      "[230]\tvalid_0's binary_logloss: 0.410819\tvalid_1's binary_logloss: 0.415613\n",
      "[240]\tvalid_0's binary_logloss: 0.410546\tvalid_1's binary_logloss: 0.415568\n",
      "[250]\tvalid_0's binary_logloss: 0.410288\tvalid_1's binary_logloss: 0.415536\n",
      "[260]\tvalid_0's binary_logloss: 0.410019\tvalid_1's binary_logloss: 0.415483\n",
      "[270]\tvalid_0's binary_logloss: 0.409753\tvalid_1's binary_logloss: 0.415461\n",
      "[280]\tvalid_0's binary_logloss: 0.409498\tvalid_1's binary_logloss: 0.415423\n",
      "[290]\tvalid_0's binary_logloss: 0.409243\tvalid_1's binary_logloss: 0.415397\n",
      "[300]\tvalid_0's binary_logloss: 0.408991\tvalid_1's binary_logloss: 0.415358\n",
      "[310]\tvalid_0's binary_logloss: 0.408736\tvalid_1's binary_logloss: 0.415344\n",
      "[320]\tvalid_0's binary_logloss: 0.408495\tvalid_1's binary_logloss: 0.415331\n",
      "[330]\tvalid_0's binary_logloss: 0.408259\tvalid_1's binary_logloss: 0.415315\n",
      "[340]\tvalid_0's binary_logloss: 0.408018\tvalid_1's binary_logloss: 0.415285\n",
      "[350]\tvalid_0's binary_logloss: 0.407786\tvalid_1's binary_logloss: 0.415274\n",
      "[360]\tvalid_0's binary_logloss: 0.407558\tvalid_1's binary_logloss: 0.415263\n",
      "[370]\tvalid_0's binary_logloss: 0.407338\tvalid_1's binary_logloss: 0.415253\n",
      "[380]\tvalid_0's binary_logloss: 0.407104\tvalid_1's binary_logloss: 0.415226\n",
      "[390]\tvalid_0's binary_logloss: 0.406879\tvalid_1's binary_logloss: 0.41522\n",
      "[400]\tvalid_0's binary_logloss: 0.406657\tvalid_1's binary_logloss: 0.415211\n",
      "[410]\tvalid_0's binary_logloss: 0.406431\tvalid_1's binary_logloss: 0.415189\n",
      "[420]\tvalid_0's binary_logloss: 0.406207\tvalid_1's binary_logloss: 0.415176\n",
      "[430]\tvalid_0's binary_logloss: 0.405988\tvalid_1's binary_logloss: 0.41517\n",
      "[440]\tvalid_0's binary_logloss: 0.405769\tvalid_1's binary_logloss: 0.415156\n",
      "[450]\tvalid_0's binary_logloss: 0.405558\tvalid_1's binary_logloss: 0.415139\n",
      "[460]\tvalid_0's binary_logloss: 0.405343\tvalid_1's binary_logloss: 0.415133\n",
      "[470]\tvalid_0's binary_logloss: 0.405119\tvalid_1's binary_logloss: 0.415122\n",
      "[480]\tvalid_0's binary_logloss: 0.4049\tvalid_1's binary_logloss: 0.415116\n",
      "[490]\tvalid_0's binary_logloss: 0.404687\tvalid_1's binary_logloss: 0.415102\n",
      "[500]\tvalid_0's binary_logloss: 0.40448\tvalid_1's binary_logloss: 0.415102\n",
      "[510]\tvalid_0's binary_logloss: 0.404258\tvalid_1's binary_logloss: 0.415086\n",
      "[520]\tvalid_0's binary_logloss: 0.404051\tvalid_1's binary_logloss: 0.415078\n",
      "[530]\tvalid_0's binary_logloss: 0.403841\tvalid_1's binary_logloss: 0.415071\n",
      "[540]\tvalid_0's binary_logloss: 0.403624\tvalid_1's binary_logloss: 0.415057\n",
      "[550]\tvalid_0's binary_logloss: 0.403407\tvalid_1's binary_logloss: 0.415042\n",
      "[560]\tvalid_0's binary_logloss: 0.40321\tvalid_1's binary_logloss: 0.415047\n",
      "[570]\tvalid_0's binary_logloss: 0.402998\tvalid_1's binary_logloss: 0.415037\n",
      "[580]\tvalid_0's binary_logloss: 0.402783\tvalid_1's binary_logloss: 0.415035\n",
      "[590]\tvalid_0's binary_logloss: 0.402571\tvalid_1's binary_logloss: 0.415022\n",
      "[600]\tvalid_0's binary_logloss: 0.402361\tvalid_1's binary_logloss: 0.415024\n",
      "[610]\tvalid_0's binary_logloss: 0.402164\tvalid_1's binary_logloss: 0.415025\n",
      "[620]\tvalid_0's binary_logloss: 0.401946\tvalid_1's binary_logloss: 0.415007\n",
      "[630]\tvalid_0's binary_logloss: 0.401743\tvalid_1's binary_logloss: 0.414998\n",
      "[640]\tvalid_0's binary_logloss: 0.401542\tvalid_1's binary_logloss: 0.414997\n",
      "[650]\tvalid_0's binary_logloss: 0.401333\tvalid_1's binary_logloss: 0.414993\n",
      "[660]\tvalid_0's binary_logloss: 0.401138\tvalid_1's binary_logloss: 0.414984\n",
      "[670]\tvalid_0's binary_logloss: 0.400937\tvalid_1's binary_logloss: 0.414991\n",
      "[680]\tvalid_0's binary_logloss: 0.40074\tvalid_1's binary_logloss: 0.414988\n",
      "[690]\tvalid_0's binary_logloss: 0.40055\tvalid_1's binary_logloss: 0.414984\n",
      "[700]\tvalid_0's binary_logloss: 0.400352\tvalid_1's binary_logloss: 0.414992\n",
      "[710]\tvalid_0's binary_logloss: 0.400152\tvalid_1's binary_logloss: 0.414987\n",
      "[720]\tvalid_0's binary_logloss: 0.399956\tvalid_1's binary_logloss: 0.414984\n",
      "[730]\tvalid_0's binary_logloss: 0.399763\tvalid_1's binary_logloss: 0.414985\n",
      "[740]\tvalid_0's binary_logloss: 0.399571\tvalid_1's binary_logloss: 0.414987\n",
      "[750]\tvalid_0's binary_logloss: 0.399375\tvalid_1's binary_logloss: 0.41498\n",
      "[760]\tvalid_0's binary_logloss: 0.39919\tvalid_1's binary_logloss: 0.414982\n",
      "[770]\tvalid_0's binary_logloss: 0.398998\tvalid_1's binary_logloss: 0.414981\n",
      "[780]\tvalid_0's binary_logloss: 0.398815\tvalid_1's binary_logloss: 0.41498\n",
      "[790]\tvalid_0's binary_logloss: 0.398627\tvalid_1's binary_logloss: 0.414987\n",
      "[800]\tvalid_0's binary_logloss: 0.398425\tvalid_1's binary_logloss: 0.414991\n",
      "[810]\tvalid_0's binary_logloss: 0.398225\tvalid_1's binary_logloss: 0.414993\n",
      "[820]\tvalid_0's binary_logloss: 0.398032\tvalid_1's binary_logloss: 0.414996\n",
      "[830]\tvalid_0's binary_logloss: 0.397834\tvalid_1's binary_logloss: 0.414997\n",
      "[840]\tvalid_0's binary_logloss: 0.397651\tvalid_1's binary_logloss: 0.415002\n",
      "[850]\tvalid_0's binary_logloss: 0.397462\tvalid_1's binary_logloss: 0.415003\n",
      "[860]\tvalid_0's binary_logloss: 0.397275\tvalid_1's binary_logloss: 0.415008\n",
      "[870]\tvalid_0's binary_logloss: 0.397088\tvalid_1's binary_logloss: 0.415001\n",
      "[880]\tvalid_0's binary_logloss: 0.396903\tvalid_1's binary_logloss: 0.414997\n",
      "[890]\tvalid_0's binary_logloss: 0.396724\tvalid_1's binary_logloss: 0.415013\n",
      "[900]\tvalid_0's binary_logloss: 0.396538\tvalid_1's binary_logloss: 0.415014\n",
      "[910]\tvalid_0's binary_logloss: 0.396344\tvalid_1's binary_logloss: 0.415004\n",
      "[920]\tvalid_0's binary_logloss: 0.396155\tvalid_1's binary_logloss: 0.41501\n",
      "[930]\tvalid_0's binary_logloss: 0.395983\tvalid_1's binary_logloss: 0.415026\n",
      "[940]\tvalid_0's binary_logloss: 0.395801\tvalid_1's binary_logloss: 0.415031\n",
      "[950]\tvalid_0's binary_logloss: 0.395612\tvalid_1's binary_logloss: 0.415034\n",
      "[960]\tvalid_0's binary_logloss: 0.395428\tvalid_1's binary_logloss: 0.415039\n",
      "[970]\tvalid_0's binary_logloss: 0.395252\tvalid_1's binary_logloss: 0.415033\n",
      "Early stopping, best iteration is:\n",
      "[777]\tvalid_0's binary_logloss: 0.398877\tvalid_1's binary_logloss: 0.414975\n",
      "[0.4143621146134288, 0.41471730267532814, 0.4150385168172594, 0.4145735478925579, 0.4149749146754844]\n"
     ]
    },
    {
     "name": "stderr",
     "output_type": "stream",
     "text": [
      "E:\\python2\\lib\\site-packages\\ipykernel_launcher.py:9: SettingWithCopyWarning: \n",
      "A value is trying to be set on a copy of a slice from a DataFrame.\n",
      "Try using .loc[row_indexer,col_indexer] = value instead\n",
      "\n",
      "See the caveats in the documentation: https://pandas.pydata.org/pandas-docs/stable/user_guide/indexing.html#returning-a-view-versus-a-copy\n",
      "  if __name__ == '__main__':\n"
     ]
    },
    {
     "name": "stdout",
     "output_type": "stream",
     "text": [
      "mean: 0.21046079139251384\n"
     ]
    },
    {
     "name": "stderr",
     "output_type": "stream",
     "text": [
      "E:\\python2\\lib\\site-packages\\ipykernel_launcher.py:10: SettingWithCopyWarning: \n",
      "A value is trying to be set on a copy of a slice from a DataFrame.\n",
      "Try using .loc[row_indexer,col_indexer] = value instead\n",
      "\n",
      "See the caveats in the documentation: https://pandas.pydata.org/pandas-docs/stable/user_guide/indexing.html#returning-a-view-versus-a-copy\n",
      "  # Remove the CWD from sys.path while we load stuff.\n"
     ]
    }
   ],
   "source": [
    "best_score = []\n",
    "for index, (train_index, test_index) in enumerate(skf.split(train_csr, train_y)):\n",
    "    lgb_model.fit(train_csr[train_index], train_y[train_index],\n",
    "                  eval_set=[(train_csr[train_index], train_y[train_index]),\n",
    "                            (train_csr[test_index], train_y[test_index])], early_stopping_rounds=200, verbose=10)\n",
    "    best_score.append(lgb_model.best_score_['valid_1']['binary_logloss'])\n",
    "    print(best_score)\n",
    " \n",
    "    test_pred = lgb_model.predict_proba(predict_csr, num_iteration=lgb_model.best_iteration_)[:, 1]\n",
    "    predict_result['predicted_score'] = predict_result['predicted_score'] + test_pred\n",
    "predict_result['predicted_score'] = predict_result['predicted_score'] / 5\n",
    "mean = predict_result['predicted_score'].mean()\n",
    "print('mean:', mean)"
   ]
  },
  {
   "cell_type": "markdown",
   "metadata": {},
   "source": [
    "* **5.2、Save Model**"
   ]
  },
  {
   "cell_type": "code",
   "execution_count": 85,
   "metadata": {
    "ExecuteTime": {
     "end_time": "2021-02-05T08:34:22.961000Z",
     "start_time": "2021-02-05T08:34:22.957000Z"
    }
   },
   "outputs": [],
   "source": [
    "import pickle"
   ]
  },
  {
   "cell_type": "code",
   "execution_count": 86,
   "metadata": {
    "ExecuteTime": {
     "end_time": "2021-02-05T08:34:39.616000Z",
     "start_time": "2021-02-05T08:34:39.603000Z"
    }
   },
   "outputs": [
    {
     "data": {
      "text/plain": [
       "LGBMClassifier(colsample_bytree=0.8, learning_rate=0.035, n_estimators=5000,\n",
       "               n_jobs=10, num_leaves=61, objective='binary', random_state=2018,\n",
       "               reg_alpha=3, reg_lambda=1, subsample=0.8, subsample_freq=1)"
      ]
     },
     "execution_count": 86,
     "metadata": {},
     "output_type": "execute_result"
    }
   ],
   "source": [
    "lgb_model"
   ]
  },
  {
   "cell_type": "code",
   "execution_count": 88,
   "metadata": {
    "ExecuteTime": {
     "end_time": "2021-02-05T08:35:19.022000Z",
     "start_time": "2021-02-05T08:35:18.841000Z"
    }
   },
   "outputs": [],
   "source": [
    "# Save Model\n",
    "with open('lgb.pickle', 'wb') as f:\n",
    "    pickle.dump(lgb_model, f)"
   ]
  },
  {
   "cell_type": "code",
   "execution_count": 89,
   "metadata": {
    "ExecuteTime": {
     "end_time": "2021-02-05T08:35:46.734000Z",
     "start_time": "2021-02-05T08:35:46.661000Z"
    }
   },
   "outputs": [],
   "source": [
    "# Read Model\n",
    "with open('lgb.pickle', 'rb') as f:\n",
    "    lgb_model2 = pickle.load(f)"
   ]
  },
  {
   "cell_type": "code",
   "execution_count": 92,
   "metadata": {
    "ExecuteTime": {
     "end_time": "2021-02-05T08:37:22.136000Z",
     "start_time": "2021-02-05T08:36:57.491000Z"
    }
   },
   "outputs": [],
   "source": [
    "# Predict\n",
    "y_p = lgb_model2.predict(train_csr)"
   ]
  },
  {
   "cell_type": "code",
   "execution_count": 97,
   "metadata": {
    "ExecuteTime": {
     "end_time": "2021-02-05T08:48:45.205000Z",
     "start_time": "2021-02-05T08:48:45.198000Z"
    }
   },
   "outputs": [],
   "source": [
    "from sklearn.metrics import log_loss"
   ]
  },
  {
   "cell_type": "code",
   "execution_count": 96,
   "metadata": {
    "ExecuteTime": {
     "end_time": "2021-02-05T08:48:21.199000Z",
     "start_time": "2021-02-05T08:47:55.723000Z"
    }
   },
   "outputs": [],
   "source": [
    "# Predict probability\n",
    "y_pro = lgb_model2.predict_proba(train_csr)"
   ]
  },
  {
   "cell_type": "code",
   "execution_count": null,
   "metadata": {},
   "outputs": [],
   "source": [
    "# Log loss\n",
    "log_loss(train_y,y_pro)"
   ]
  }
 ],
 "metadata": {
  "kernelspec": {
   "display_name": "Python 3 (ipykernel)",
   "language": "python",
   "name": "python3"
  },
  "language_info": {
   "codemirror_mode": {
    "name": "ipython",
    "version": 3
   },
   "file_extension": ".py",
   "mimetype": "text/x-python",
   "name": "python",
   "nbconvert_exporter": "python",
   "pygments_lexer": "ipython3",
   "version": "3.7.12"
  }
 },
 "nbformat": 4,
 "nbformat_minor": 2
}
